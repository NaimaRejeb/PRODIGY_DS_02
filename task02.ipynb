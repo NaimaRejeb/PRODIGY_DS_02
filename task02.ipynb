{
 "cells": [
  {
   "cell_type": "code",
   "execution_count": 1,
   "id": "9e055afb",
   "metadata": {
    "_cell_guid": "b1076dfc-b9ad-4769-8c92-a6c4dae69d19",
    "_uuid": "8f2839f25d086af736a60e9eeb907d3b93b6e0e5",
    "execution": {
     "iopub.execute_input": "2025-07-17T11:42:58.420724Z",
     "iopub.status.busy": "2025-07-17T11:42:58.419829Z",
     "iopub.status.idle": "2025-07-17T11:43:02.316451Z",
     "shell.execute_reply": "2025-07-17T11:43:02.315308Z"
    },
    "papermill": {
     "duration": 3.909525,
     "end_time": "2025-07-17T11:43:02.318119",
     "exception": false,
     "start_time": "2025-07-17T11:42:58.408594",
     "status": "completed"
    },
    "tags": []
   },
   "outputs": [],
   "source": [
    "import pandas as pd\n",
    "import matplotlib.pyplot as plt\n",
    "import seaborn as sns"
   ]
  },
  {
   "cell_type": "code",
   "execution_count": 2,
   "id": "369f4ace",
   "metadata": {
    "execution": {
     "iopub.execute_input": "2025-07-17T11:43:02.337579Z",
     "iopub.status.busy": "2025-07-17T11:43:02.337115Z",
     "iopub.status.idle": "2025-07-17T11:43:02.380070Z",
     "shell.execute_reply": "2025-07-17T11:43:02.379170Z"
    },
    "papermill": {
     "duration": 0.054491,
     "end_time": "2025-07-17T11:43:02.381754",
     "exception": false,
     "start_time": "2025-07-17T11:43:02.327263",
     "status": "completed"
    },
    "tags": []
   },
   "outputs": [],
   "source": [
    "df = pd.read_csv('/kaggle/input/aviation-crashed-flights-data/flight.csv')"
   ]
  },
  {
   "cell_type": "code",
   "execution_count": 3,
   "id": "9c46ff94",
   "metadata": {
    "execution": {
     "iopub.execute_input": "2025-07-17T11:43:02.401656Z",
     "iopub.status.busy": "2025-07-17T11:43:02.401336Z",
     "iopub.status.idle": "2025-07-17T11:43:02.427159Z",
     "shell.execute_reply": "2025-07-17T11:43:02.426214Z"
    },
    "papermill": {
     "duration": 0.037824,
     "end_time": "2025-07-17T11:43:02.428719",
     "exception": false,
     "start_time": "2025-07-17T11:43:02.390895",
     "status": "completed"
    },
    "tags": []
   },
   "outputs": [
    {
     "data": {
      "text/html": [
       "<div>\n",
       "<style scoped>\n",
       "    .dataframe tbody tr th:only-of-type {\n",
       "        vertical-align: middle;\n",
       "    }\n",
       "\n",
       "    .dataframe tbody tr th {\n",
       "        vertical-align: top;\n",
       "    }\n",
       "\n",
       "    .dataframe thead th {\n",
       "        text-align: right;\n",
       "    }\n",
       "</style>\n",
       "<table border=\"1\" class=\"dataframe\">\n",
       "  <thead>\n",
       "    <tr style=\"text-align: right;\">\n",
       "      <th></th>\n",
       "      <th>Unnamed: 0</th>\n",
       "      <th>acc.date</th>\n",
       "      <th>type</th>\n",
       "      <th>reg</th>\n",
       "      <th>operator</th>\n",
       "      <th>fat</th>\n",
       "      <th>location</th>\n",
       "      <th>dmg</th>\n",
       "    </tr>\n",
       "  </thead>\n",
       "  <tbody>\n",
       "    <tr>\n",
       "      <th>0</th>\n",
       "      <td>0</td>\n",
       "      <td>3 Jan 2022</td>\n",
       "      <td>British Aerospace 4121 Jetstream 41</td>\n",
       "      <td>ZS-NRJ</td>\n",
       "      <td>SA Airlink</td>\n",
       "      <td>0</td>\n",
       "      <td>near Venetia Mine Airport</td>\n",
       "      <td>sub</td>\n",
       "    </tr>\n",
       "    <tr>\n",
       "      <th>1</th>\n",
       "      <td>1</td>\n",
       "      <td>4 Jan 2022</td>\n",
       "      <td>British Aerospace 3101 Jetstream 31</td>\n",
       "      <td>HR-AYY</td>\n",
       "      <td>LANHSA - Línea Aérea Nacional de Honduras S.A</td>\n",
       "      <td>0</td>\n",
       "      <td>Roatán-Juan Manuel Gálvez International Airpor...</td>\n",
       "      <td>sub</td>\n",
       "    </tr>\n",
       "    <tr>\n",
       "      <th>2</th>\n",
       "      <td>2</td>\n",
       "      <td>5 Jan 2022</td>\n",
       "      <td>Boeing 737-4H6</td>\n",
       "      <td>EP-CAP</td>\n",
       "      <td>Caspian Airlines</td>\n",
       "      <td>0</td>\n",
       "      <td>Isfahan-Shahid Beheshti Airport (IFN)</td>\n",
       "      <td>sub</td>\n",
       "    </tr>\n",
       "    <tr>\n",
       "      <th>3</th>\n",
       "      <td>3</td>\n",
       "      <td>8 Jan 2022</td>\n",
       "      <td>Tupolev Tu-204-100C</td>\n",
       "      <td>RA-64032</td>\n",
       "      <td>Cainiao, opb Aviastar-TU</td>\n",
       "      <td>0</td>\n",
       "      <td>Hangzhou Xiaoshan International Airport (HGH)</td>\n",
       "      <td>w/o</td>\n",
       "    </tr>\n",
       "    <tr>\n",
       "      <th>4</th>\n",
       "      <td>4</td>\n",
       "      <td>12 Jan 2022</td>\n",
       "      <td>Beechcraft 200 Super King Air</td>\n",
       "      <td>NaN</td>\n",
       "      <td>private</td>\n",
       "      <td>0</td>\n",
       "      <td>Machakilha, Toledo District, Grahem Creek area</td>\n",
       "      <td>w/o</td>\n",
       "    </tr>\n",
       "  </tbody>\n",
       "</table>\n",
       "</div>"
      ],
      "text/plain": [
       "   Unnamed: 0     acc.date                                 type       reg  \\\n",
       "0           0   3 Jan 2022  British Aerospace 4121 Jetstream 41    ZS-NRJ   \n",
       "1           1   4 Jan 2022  British Aerospace 3101 Jetstream 31    HR-AYY   \n",
       "2           2   5 Jan 2022                       Boeing 737-4H6    EP-CAP   \n",
       "3           3   8 Jan 2022                  Tupolev Tu-204-100C  RA-64032   \n",
       "4           4  12 Jan 2022        Beechcraft 200 Super King Air       NaN   \n",
       "\n",
       "                                        operator fat  \\\n",
       "0                                     SA Airlink   0   \n",
       "1  LANHSA - Línea Aérea Nacional de Honduras S.A   0   \n",
       "2                               Caspian Airlines   0   \n",
       "3                       Cainiao, opb Aviastar-TU   0   \n",
       "4                                        private   0   \n",
       "\n",
       "                                            location  dmg  \n",
       "0                          near Venetia Mine Airport  sub  \n",
       "1  Roatán-Juan Manuel Gálvez International Airpor...  sub  \n",
       "2              Isfahan-Shahid Beheshti Airport (IFN)  sub  \n",
       "3      Hangzhou Xiaoshan International Airport (HGH)  w/o  \n",
       "4     Machakilha, Toledo District, Grahem Creek area  w/o  "
      ]
     },
     "execution_count": 3,
     "metadata": {},
     "output_type": "execute_result"
    }
   ],
   "source": [
    "df.head()"
   ]
  },
  {
   "cell_type": "code",
   "execution_count": 4,
   "id": "3b574250",
   "metadata": {
    "execution": {
     "iopub.execute_input": "2025-07-17T11:43:02.449721Z",
     "iopub.status.busy": "2025-07-17T11:43:02.449338Z",
     "iopub.status.idle": "2025-07-17T11:43:02.461313Z",
     "shell.execute_reply": "2025-07-17T11:43:02.460169Z"
    },
    "papermill": {
     "duration": 0.024242,
     "end_time": "2025-07-17T11:43:02.463001",
     "exception": false,
     "start_time": "2025-07-17T11:43:02.438759",
     "status": "completed"
    },
    "tags": []
   },
   "outputs": [
    {
     "data": {
      "text/html": [
       "<div>\n",
       "<style scoped>\n",
       "    .dataframe tbody tr th:only-of-type {\n",
       "        vertical-align: middle;\n",
       "    }\n",
       "\n",
       "    .dataframe tbody tr th {\n",
       "        vertical-align: top;\n",
       "    }\n",
       "\n",
       "    .dataframe thead th {\n",
       "        text-align: right;\n",
       "    }\n",
       "</style>\n",
       "<table border=\"1\" class=\"dataframe\">\n",
       "  <thead>\n",
       "    <tr style=\"text-align: right;\">\n",
       "      <th></th>\n",
       "      <th>Unnamed: 0</th>\n",
       "      <th>acc.date</th>\n",
       "      <th>type</th>\n",
       "      <th>reg</th>\n",
       "      <th>operator</th>\n",
       "      <th>fat</th>\n",
       "      <th>location</th>\n",
       "      <th>dmg</th>\n",
       "    </tr>\n",
       "  </thead>\n",
       "  <tbody>\n",
       "    <tr>\n",
       "      <th>2495</th>\n",
       "      <td>1245</td>\n",
       "      <td>20 Dec 2018</td>\n",
       "      <td>Cessna 560 Citation V</td>\n",
       "      <td>N188CW</td>\n",
       "      <td>Chen Aircrafts LLC</td>\n",
       "      <td>4</td>\n",
       "      <td>2 km NE of Atlanta-Fulton County Airport, GA (...</td>\n",
       "      <td>w/o</td>\n",
       "    </tr>\n",
       "    <tr>\n",
       "      <th>2496</th>\n",
       "      <td>1246</td>\n",
       "      <td>22 Dec 2018</td>\n",
       "      <td>PZL-Mielec M28 Skytruck</td>\n",
       "      <td>GNB-96107</td>\n",
       "      <td>Guardia Nacional Bolivariana de Venezuela - GNBV</td>\n",
       "      <td>0</td>\n",
       "      <td>Kamarata Airport (KTV)</td>\n",
       "      <td>sub</td>\n",
       "    </tr>\n",
       "    <tr>\n",
       "      <th>2497</th>\n",
       "      <td>1247</td>\n",
       "      <td>24 Dec 2018</td>\n",
       "      <td>Antonov An-26B</td>\n",
       "      <td>9T-TAB</td>\n",
       "      <td>Air Force of the Democratic Republic of the Congo</td>\n",
       "      <td>0</td>\n",
       "      <td>Beni Airport (BNC)</td>\n",
       "      <td>w/o</td>\n",
       "    </tr>\n",
       "    <tr>\n",
       "      <th>2498</th>\n",
       "      <td>1248</td>\n",
       "      <td>31 Dec 2018</td>\n",
       "      <td>Boeing 757-2B7 (WL)</td>\n",
       "      <td>N938UW</td>\n",
       "      <td>American Airlines</td>\n",
       "      <td>0</td>\n",
       "      <td>Charlotte-Douglas International Airport, NC (C...</td>\n",
       "      <td>sub</td>\n",
       "    </tr>\n",
       "    <tr>\n",
       "      <th>2499</th>\n",
       "      <td>1249</td>\n",
       "      <td>unk. date 2018</td>\n",
       "      <td>Rockwell Sabreliner 80</td>\n",
       "      <td>N337KL</td>\n",
       "      <td>private</td>\n",
       "      <td>0</td>\n",
       "      <td>Eugene Airport, OR (EUG)</td>\n",
       "      <td>sub</td>\n",
       "    </tr>\n",
       "  </tbody>\n",
       "</table>\n",
       "</div>"
      ],
      "text/plain": [
       "      Unnamed: 0        acc.date                     type        reg  \\\n",
       "2495        1245     20 Dec 2018    Cessna 560 Citation V     N188CW   \n",
       "2496        1246     22 Dec 2018  PZL-Mielec M28 Skytruck  GNB-96107   \n",
       "2497        1247     24 Dec 2018           Antonov An-26B     9T-TAB   \n",
       "2498        1248     31 Dec 2018      Boeing 757-2B7 (WL)     N938UW   \n",
       "2499        1249  unk. date 2018   Rockwell Sabreliner 80     N337KL   \n",
       "\n",
       "                                               operator fat  \\\n",
       "2495                                 Chen Aircrafts LLC   4   \n",
       "2496   Guardia Nacional Bolivariana de Venezuela - GNBV   0   \n",
       "2497  Air Force of the Democratic Republic of the Congo   0   \n",
       "2498                                  American Airlines   0   \n",
       "2499                                            private   0   \n",
       "\n",
       "                                               location  dmg  \n",
       "2495  2 km NE of Atlanta-Fulton County Airport, GA (...  w/o  \n",
       "2496                             Kamarata Airport (KTV)  sub  \n",
       "2497                                 Beni Airport (BNC)  w/o  \n",
       "2498  Charlotte-Douglas International Airport, NC (C...  sub  \n",
       "2499                           Eugene Airport, OR (EUG)  sub  "
      ]
     },
     "execution_count": 4,
     "metadata": {},
     "output_type": "execute_result"
    }
   ],
   "source": [
    "df.tail()"
   ]
  },
  {
   "cell_type": "code",
   "execution_count": 5,
   "id": "410fccb8",
   "metadata": {
    "execution": {
     "iopub.execute_input": "2025-07-17T11:43:02.483160Z",
     "iopub.status.busy": "2025-07-17T11:43:02.482803Z",
     "iopub.status.idle": "2025-07-17T11:43:02.501342Z",
     "shell.execute_reply": "2025-07-17T11:43:02.500394Z"
    },
    "papermill": {
     "duration": 0.030488,
     "end_time": "2025-07-17T11:43:02.503125",
     "exception": false,
     "start_time": "2025-07-17T11:43:02.472637",
     "status": "completed"
    },
    "tags": []
   },
   "outputs": [
    {
     "data": {
      "text/html": [
       "<div>\n",
       "<style scoped>\n",
       "    .dataframe tbody tr th:only-of-type {\n",
       "        vertical-align: middle;\n",
       "    }\n",
       "\n",
       "    .dataframe tbody tr th {\n",
       "        vertical-align: top;\n",
       "    }\n",
       "\n",
       "    .dataframe thead th {\n",
       "        text-align: right;\n",
       "    }\n",
       "</style>\n",
       "<table border=\"1\" class=\"dataframe\">\n",
       "  <thead>\n",
       "    <tr style=\"text-align: right;\">\n",
       "      <th></th>\n",
       "      <th>Unnamed: 0</th>\n",
       "      <th>acc.date</th>\n",
       "      <th>type</th>\n",
       "      <th>reg</th>\n",
       "      <th>operator</th>\n",
       "      <th>fat</th>\n",
       "      <th>location</th>\n",
       "      <th>dmg</th>\n",
       "    </tr>\n",
       "  </thead>\n",
       "  <tbody>\n",
       "    <tr>\n",
       "      <th>2025</th>\n",
       "      <td>775</td>\n",
       "      <td>9 Jun 2019</td>\n",
       "      <td>Antonov An-2R</td>\n",
       "      <td>RA-81519</td>\n",
       "      <td>Feniks</td>\n",
       "      <td>0</td>\n",
       "      <td>50 km NE of Kyren, Tunkinsky District</td>\n",
       "      <td>sub</td>\n",
       "    </tr>\n",
       "    <tr>\n",
       "      <th>484</th>\n",
       "      <td>484</td>\n",
       "      <td>23 Feb 2020</td>\n",
       "      <td>Bombardier CL-600-2B16 Challenger 605</td>\n",
       "      <td>C-GKCP</td>\n",
       "      <td>Canadian Pacific Railway Company</td>\n",
       "      <td>0</td>\n",
       "      <td>Calgary International Airport, AB (YYC)</td>\n",
       "      <td>sub</td>\n",
       "    </tr>\n",
       "    <tr>\n",
       "      <th>182</th>\n",
       "      <td>182</td>\n",
       "      <td>7 Nov 2022</td>\n",
       "      <td>ATR 72-600 (72-212A)</td>\n",
       "      <td>JA06JC</td>\n",
       "      <td>Japan Air Commuter</td>\n",
       "      <td>0</td>\n",
       "      <td>Kagoshima Airport (KOJ/RJFK)</td>\n",
       "      <td>non</td>\n",
       "    </tr>\n",
       "    <tr>\n",
       "      <th>2080</th>\n",
       "      <td>830</td>\n",
       "      <td>4 Aug 2019</td>\n",
       "      <td>Antonov An-2</td>\n",
       "      <td>RT-15-305</td>\n",
       "      <td>DOSAAF Tajikistan</td>\n",
       "      <td>1</td>\n",
       "      <td>near Fakhrabad</td>\n",
       "      <td>w/o</td>\n",
       "    </tr>\n",
       "    <tr>\n",
       "      <th>721</th>\n",
       "      <td>721</td>\n",
       "      <td>12 Mar 2019</td>\n",
       "      <td>Beechcraft A100 King Air</td>\n",
       "      <td>N945WS</td>\n",
       "      <td>Golden Wings Aviation Inc.</td>\n",
       "      <td>0</td>\n",
       "      <td>Latrobe-Westmoreland County Airport, PA (LBE)</td>\n",
       "      <td>sub</td>\n",
       "    </tr>\n",
       "  </tbody>\n",
       "</table>\n",
       "</div>"
      ],
      "text/plain": [
       "      Unnamed: 0     acc.date                                   type  \\\n",
       "2025         775   9 Jun 2019                          Antonov An-2R   \n",
       "484          484  23 Feb 2020  Bombardier CL-600-2B16 Challenger 605   \n",
       "182          182   7 Nov 2022                   ATR 72-600 (72-212A)   \n",
       "2080         830   4 Aug 2019                           Antonov An-2   \n",
       "721          721  12 Mar 2019               Beechcraft A100 King Air   \n",
       "\n",
       "            reg                          operator fat  \\\n",
       "2025   RA-81519                            Feniks   0   \n",
       "484      C-GKCP  Canadian Pacific Railway Company   0   \n",
       "182      JA06JC                Japan Air Commuter   0   \n",
       "2080  RT-15-305                 DOSAAF Tajikistan   1   \n",
       "721      N945WS        Golden Wings Aviation Inc.   0   \n",
       "\n",
       "                                           location  dmg  \n",
       "2025          50 km NE of Kyren, Tunkinsky District  sub  \n",
       "484         Calgary International Airport, AB (YYC)  sub  \n",
       "182                    Kagoshima Airport (KOJ/RJFK)  non  \n",
       "2080                                 near Fakhrabad  w/o  \n",
       "721   Latrobe-Westmoreland County Airport, PA (LBE)  sub  "
      ]
     },
     "execution_count": 5,
     "metadata": {},
     "output_type": "execute_result"
    }
   ],
   "source": [
    "df.sample(5)"
   ]
  },
  {
   "cell_type": "code",
   "execution_count": 6,
   "id": "5329b2a0",
   "metadata": {
    "execution": {
     "iopub.execute_input": "2025-07-17T11:43:02.525522Z",
     "iopub.status.busy": "2025-07-17T11:43:02.525166Z",
     "iopub.status.idle": "2025-07-17T11:43:02.531327Z",
     "shell.execute_reply": "2025-07-17T11:43:02.530383Z"
    },
    "papermill": {
     "duration": 0.018627,
     "end_time": "2025-07-17T11:43:02.532882",
     "exception": false,
     "start_time": "2025-07-17T11:43:02.514255",
     "status": "completed"
    },
    "tags": []
   },
   "outputs": [
    {
     "data": {
      "text/plain": [
       "(2500, 8)"
      ]
     },
     "execution_count": 6,
     "metadata": {},
     "output_type": "execute_result"
    }
   ],
   "source": [
    "df.shape"
   ]
  },
  {
   "cell_type": "code",
   "execution_count": 7,
   "id": "7bd2217a",
   "metadata": {
    "execution": {
     "iopub.execute_input": "2025-07-17T11:43:02.553102Z",
     "iopub.status.busy": "2025-07-17T11:43:02.552787Z",
     "iopub.status.idle": "2025-07-17T11:43:02.560039Z",
     "shell.execute_reply": "2025-07-17T11:43:02.559334Z"
    },
    "papermill": {
     "duration": 0.018826,
     "end_time": "2025-07-17T11:43:02.561410",
     "exception": false,
     "start_time": "2025-07-17T11:43:02.542584",
     "status": "completed"
    },
    "tags": []
   },
   "outputs": [],
   "source": [
    "df = df.drop(\"Unnamed: 0\", axis=1)"
   ]
  },
  {
   "cell_type": "code",
   "execution_count": 8,
   "id": "d79f0f21",
   "metadata": {
    "execution": {
     "iopub.execute_input": "2025-07-17T11:43:02.582015Z",
     "iopub.status.busy": "2025-07-17T11:43:02.581294Z",
     "iopub.status.idle": "2025-07-17T11:43:02.598592Z",
     "shell.execute_reply": "2025-07-17T11:43:02.597615Z"
    },
    "papermill": {
     "duration": 0.029284,
     "end_time": "2025-07-17T11:43:02.600205",
     "exception": false,
     "start_time": "2025-07-17T11:43:02.570921",
     "status": "completed"
    },
    "tags": []
   },
   "outputs": [
    {
     "name": "stdout",
     "output_type": "stream",
     "text": [
      "<class 'pandas.core.frame.DataFrame'>\n",
      "RangeIndex: 2500 entries, 0 to 2499\n",
      "Data columns (total 7 columns):\n",
      " #   Column    Non-Null Count  Dtype \n",
      "---  ------    --------------  ----- \n",
      " 0   acc.date  2500 non-null   object\n",
      " 1   type      2500 non-null   object\n",
      " 2   reg       2408 non-null   object\n",
      " 3   operator  2486 non-null   object\n",
      " 4   fat       2488 non-null   object\n",
      " 5   location  2500 non-null   object\n",
      " 6   dmg       2500 non-null   object\n",
      "dtypes: object(7)\n",
      "memory usage: 136.8+ KB\n"
     ]
    }
   ],
   "source": [
    "df.info()"
   ]
  },
  {
   "cell_type": "code",
   "execution_count": 9,
   "id": "d38103dd",
   "metadata": {
    "execution": {
     "iopub.execute_input": "2025-07-17T11:43:02.620719Z",
     "iopub.status.busy": "2025-07-17T11:43:02.620353Z",
     "iopub.status.idle": "2025-07-17T11:43:02.627060Z",
     "shell.execute_reply": "2025-07-17T11:43:02.625977Z"
    },
    "papermill": {
     "duration": 0.018835,
     "end_time": "2025-07-17T11:43:02.628832",
     "exception": false,
     "start_time": "2025-07-17T11:43:02.609997",
     "status": "completed"
    },
    "tags": []
   },
   "outputs": [
    {
     "data": {
      "text/plain": [
       "Index(['acc.date', 'type', 'reg', 'operator', 'fat', 'location', 'dmg'], dtype='object')"
      ]
     },
     "execution_count": 9,
     "metadata": {},
     "output_type": "execute_result"
    }
   ],
   "source": [
    "df.columns"
   ]
  },
  {
   "cell_type": "code",
   "execution_count": 10,
   "id": "ce89d3b3",
   "metadata": {
    "execution": {
     "iopub.execute_input": "2025-07-17T11:43:02.649291Z",
     "iopub.status.busy": "2025-07-17T11:43:02.648956Z",
     "iopub.status.idle": "2025-07-17T11:43:02.659868Z",
     "shell.execute_reply": "2025-07-17T11:43:02.658941Z"
    },
    "papermill": {
     "duration": 0.023086,
     "end_time": "2025-07-17T11:43:02.661641",
     "exception": false,
     "start_time": "2025-07-17T11:43:02.638555",
     "status": "completed"
    },
    "tags": []
   },
   "outputs": [
    {
     "data": {
      "text/plain": [
       "acc.date     871\n",
       "type         523\n",
       "reg         1194\n",
       "operator     827\n",
       "fat           47\n",
       "location    1059\n",
       "dmg            6\n",
       "dtype: int64"
      ]
     },
     "execution_count": 10,
     "metadata": {},
     "output_type": "execute_result"
    }
   ],
   "source": [
    "# Number of unique values\n",
    "df.nunique()"
   ]
  },
  {
   "cell_type": "code",
   "execution_count": 11,
   "id": "c9e94c95",
   "metadata": {
    "execution": {
     "iopub.execute_input": "2025-07-17T11:43:02.683098Z",
     "iopub.status.busy": "2025-07-17T11:43:02.682748Z",
     "iopub.status.idle": "2025-07-17T11:43:02.706950Z",
     "shell.execute_reply": "2025-07-17T11:43:02.705976Z"
    },
    "papermill": {
     "duration": 0.036932,
     "end_time": "2025-07-17T11:43:02.708702",
     "exception": false,
     "start_time": "2025-07-17T11:43:02.671770",
     "status": "completed"
    },
    "tags": []
   },
   "outputs": [
    {
     "data": {
      "text/html": [
       "<div>\n",
       "<style scoped>\n",
       "    .dataframe tbody tr th:only-of-type {\n",
       "        vertical-align: middle;\n",
       "    }\n",
       "\n",
       "    .dataframe tbody tr th {\n",
       "        vertical-align: top;\n",
       "    }\n",
       "\n",
       "    .dataframe thead th {\n",
       "        text-align: right;\n",
       "    }\n",
       "</style>\n",
       "<table border=\"1\" class=\"dataframe\">\n",
       "  <thead>\n",
       "    <tr style=\"text-align: right;\">\n",
       "      <th></th>\n",
       "      <th>acc.date</th>\n",
       "      <th>type</th>\n",
       "      <th>reg</th>\n",
       "      <th>operator</th>\n",
       "      <th>fat</th>\n",
       "      <th>location</th>\n",
       "      <th>dmg</th>\n",
       "    </tr>\n",
       "  </thead>\n",
       "  <tbody>\n",
       "    <tr>\n",
       "      <th>count</th>\n",
       "      <td>2500</td>\n",
       "      <td>2500</td>\n",
       "      <td>2408</td>\n",
       "      <td>2486</td>\n",
       "      <td>2488</td>\n",
       "      <td>2500</td>\n",
       "      <td>2500</td>\n",
       "    </tr>\n",
       "    <tr>\n",
       "      <th>unique</th>\n",
       "      <td>871</td>\n",
       "      <td>523</td>\n",
       "      <td>1194</td>\n",
       "      <td>827</td>\n",
       "      <td>47</td>\n",
       "      <td>1059</td>\n",
       "      <td>6</td>\n",
       "    </tr>\n",
       "    <tr>\n",
       "      <th>top</th>\n",
       "      <td>3 Mar 2020</td>\n",
       "      <td>Cessna 208B Grand Caravan</td>\n",
       "      <td>unreg.</td>\n",
       "      <td>private</td>\n",
       "      <td>0</td>\n",
       "      <td>Chicago-O'Hare International Airport, IL (ORD/...</td>\n",
       "      <td>sub</td>\n",
       "    </tr>\n",
       "    <tr>\n",
       "      <th>freq</th>\n",
       "      <td>24</td>\n",
       "      <td>114</td>\n",
       "      <td>6</td>\n",
       "      <td>206</td>\n",
       "      <td>2068</td>\n",
       "      <td>28</td>\n",
       "      <td>1330</td>\n",
       "    </tr>\n",
       "  </tbody>\n",
       "</table>\n",
       "</div>"
      ],
      "text/plain": [
       "          acc.date                       type     reg operator   fat  \\\n",
       "count         2500                       2500    2408     2486  2488   \n",
       "unique         871                        523    1194      827    47   \n",
       "top     3 Mar 2020  Cessna 208B Grand Caravan  unreg.  private     0   \n",
       "freq            24                        114       6      206  2068   \n",
       "\n",
       "                                                 location   dmg  \n",
       "count                                                2500  2500  \n",
       "unique                                               1059     6  \n",
       "top     Chicago-O'Hare International Airport, IL (ORD/...   sub  \n",
       "freq                                                   28  1330  "
      ]
     },
     "execution_count": 11,
     "metadata": {},
     "output_type": "execute_result"
    }
   ],
   "source": [
    "df.describe(include=\"all\")"
   ]
  },
  {
   "cell_type": "markdown",
   "id": "2cedccd4",
   "metadata": {
    "papermill": {
     "duration": 0.010356,
     "end_time": "2025-07-17T11:43:02.728969",
     "exception": false,
     "start_time": "2025-07-17T11:43:02.718613",
     "status": "completed"
    },
    "tags": []
   },
   "source": [
    "# ***Missing Data Analysis*** "
   ]
  },
  {
   "cell_type": "code",
   "execution_count": 12,
   "id": "e9199dfd",
   "metadata": {
    "execution": {
     "iopub.execute_input": "2025-07-17T11:43:02.750778Z",
     "iopub.status.busy": "2025-07-17T11:43:02.750432Z",
     "iopub.status.idle": "2025-07-17T11:43:02.758366Z",
     "shell.execute_reply": "2025-07-17T11:43:02.757541Z"
    },
    "papermill": {
     "duration": 0.020715,
     "end_time": "2025-07-17T11:43:02.759886",
     "exception": false,
     "start_time": "2025-07-17T11:43:02.739171",
     "status": "completed"
    },
    "tags": []
   },
   "outputs": [
    {
     "data": {
      "text/plain": [
       "acc.date     0\n",
       "type         0\n",
       "reg         92\n",
       "operator    14\n",
       "fat         12\n",
       "location     0\n",
       "dmg          0\n",
       "dtype: int64"
      ]
     },
     "execution_count": 12,
     "metadata": {},
     "output_type": "execute_result"
    }
   ],
   "source": [
    "df.isna().sum()"
   ]
  },
  {
   "cell_type": "code",
   "execution_count": 13,
   "id": "9b0c96c5",
   "metadata": {
    "execution": {
     "iopub.execute_input": "2025-07-17T11:43:02.781650Z",
     "iopub.status.busy": "2025-07-17T11:43:02.781318Z",
     "iopub.status.idle": "2025-07-17T11:43:02.790221Z",
     "shell.execute_reply": "2025-07-17T11:43:02.789183Z"
    },
    "papermill": {
     "duration": 0.021443,
     "end_time": "2025-07-17T11:43:02.791637",
     "exception": false,
     "start_time": "2025-07-17T11:43:02.770194",
     "status": "completed"
    },
    "tags": []
   },
   "outputs": [
    {
     "name": "stdout",
     "output_type": "stream",
     "text": [
      "acc.date    0.00\n",
      "type        0.00\n",
      "reg         3.68\n",
      "operator    0.56\n",
      "fat         0.48\n",
      "location    0.00\n",
      "dmg         0.00\n",
      "dtype: float64\n"
     ]
    }
   ],
   "source": [
    "# Percentage of null values per column\n",
    "missing_data = df.isna().mean()*100\n",
    "print (missing_data)"
   ]
  },
  {
   "cell_type": "code",
   "execution_count": 14,
   "id": "3fe2d484",
   "metadata": {
    "execution": {
     "iopub.execute_input": "2025-07-17T11:43:02.813845Z",
     "iopub.status.busy": "2025-07-17T11:43:02.813307Z",
     "iopub.status.idle": "2025-07-17T11:43:03.285924Z",
     "shell.execute_reply": "2025-07-17T11:43:03.284938Z"
    },
    "papermill": {
     "duration": 0.485742,
     "end_time": "2025-07-17T11:43:03.287635",
     "exception": false,
     "start_time": "2025-07-17T11:43:02.801893",
     "status": "completed"
    },
    "tags": []
   },
   "outputs": [
    {
     "data": {
      "image/png": "[encoded data removed]",
      "text/plain": [
       "<Figure size 800x400 with 1 Axes>"
      ]
     },
     "metadata": {},
     "output_type": "display_data"
    }
   ],
   "source": [
    "# Visualization\n",
    "plt.figure(figsize=(8,4))\n",
    "sns.heatmap(df.isnull(),cbar=False,cmap= \"viridis\")\n",
    "plt.title(\"Missing Values Map\")\n",
    "plt.show()"
   ]
  },
  {
   "cell_type": "markdown",
   "id": "c4f65423",
   "metadata": {
    "papermill": {
     "duration": 0.010398,
     "end_time": "2025-07-17T11:43:03.374056",
     "exception": false,
     "start_time": "2025-07-17T11:43:03.363658",
     "status": "completed"
    },
    "tags": []
   },
   "source": [
    "# ***Duplicate Data Analysis***"
   ]
  },
  {
   "cell_type": "code",
   "execution_count": 15,
   "id": "fc58e113",
   "metadata": {
    "execution": {
     "iopub.execute_input": "2025-07-17T11:43:03.397224Z",
     "iopub.status.busy": "2025-07-17T11:43:03.396876Z",
     "iopub.status.idle": "2025-07-17T11:43:03.405839Z",
     "shell.execute_reply": "2025-07-17T11:43:03.404978Z"
    },
    "papermill": {
     "duration": 0.022203,
     "end_time": "2025-07-17T11:43:03.407288",
     "exception": false,
     "start_time": "2025-07-17T11:43:03.385085",
     "status": "completed"
    },
    "tags": []
   },
   "outputs": [
    {
     "data": {
      "text/plain": [
       "1250"
      ]
     },
     "execution_count": 15,
     "metadata": {},
     "output_type": "execute_result"
    }
   ],
   "source": [
    "df.duplicated().sum()"
   ]
  },
  {
   "cell_type": "code",
   "execution_count": 16,
   "id": "77262cdc",
   "metadata": {
    "execution": {
     "iopub.execute_input": "2025-07-17T11:43:03.431875Z",
     "iopub.status.busy": "2025-07-17T11:43:03.431594Z",
     "iopub.status.idle": "2025-07-17T11:43:03.447135Z",
     "shell.execute_reply": "2025-07-17T11:43:03.446138Z"
    },
    "papermill": {
     "duration": 0.030173,
     "end_time": "2025-07-17T11:43:03.448893",
     "exception": false,
     "start_time": "2025-07-17T11:43:03.418720",
     "status": "completed"
    },
    "tags": []
   },
   "outputs": [
    {
     "data": {
      "text/html": [
       "<div>\n",
       "<style scoped>\n",
       "    .dataframe tbody tr th:only-of-type {\n",
       "        vertical-align: middle;\n",
       "    }\n",
       "\n",
       "    .dataframe tbody tr th {\n",
       "        vertical-align: top;\n",
       "    }\n",
       "\n",
       "    .dataframe thead th {\n",
       "        text-align: right;\n",
       "    }\n",
       "</style>\n",
       "<table border=\"1\" class=\"dataframe\">\n",
       "  <thead>\n",
       "    <tr style=\"text-align: right;\">\n",
       "      <th></th>\n",
       "      <th>acc.date</th>\n",
       "      <th>type</th>\n",
       "      <th>reg</th>\n",
       "      <th>operator</th>\n",
       "      <th>fat</th>\n",
       "      <th>location</th>\n",
       "      <th>dmg</th>\n",
       "    </tr>\n",
       "  </thead>\n",
       "  <tbody>\n",
       "    <tr>\n",
       "      <th>1250</th>\n",
       "      <td>3 Jan 2022</td>\n",
       "      <td>British Aerospace 4121 Jetstream 41</td>\n",
       "      <td>ZS-NRJ</td>\n",
       "      <td>SA Airlink</td>\n",
       "      <td>0</td>\n",
       "      <td>near Venetia Mine Airport</td>\n",
       "      <td>sub</td>\n",
       "    </tr>\n",
       "    <tr>\n",
       "      <th>1251</th>\n",
       "      <td>4 Jan 2022</td>\n",
       "      <td>British Aerospace 3101 Jetstream 31</td>\n",
       "      <td>HR-AYY</td>\n",
       "      <td>LANHSA - Línea Aérea Nacional de Honduras S.A</td>\n",
       "      <td>0</td>\n",
       "      <td>Roatán-Juan Manuel Gálvez International Airpor...</td>\n",
       "      <td>sub</td>\n",
       "    </tr>\n",
       "    <tr>\n",
       "      <th>1252</th>\n",
       "      <td>5 Jan 2022</td>\n",
       "      <td>Boeing 737-4H6</td>\n",
       "      <td>EP-CAP</td>\n",
       "      <td>Caspian Airlines</td>\n",
       "      <td>0</td>\n",
       "      <td>Isfahan-Shahid Beheshti Airport (IFN)</td>\n",
       "      <td>sub</td>\n",
       "    </tr>\n",
       "    <tr>\n",
       "      <th>1253</th>\n",
       "      <td>8 Jan 2022</td>\n",
       "      <td>Tupolev Tu-204-100C</td>\n",
       "      <td>RA-64032</td>\n",
       "      <td>Cainiao, opb Aviastar-TU</td>\n",
       "      <td>0</td>\n",
       "      <td>Hangzhou Xiaoshan International Airport (HGH)</td>\n",
       "      <td>w/o</td>\n",
       "    </tr>\n",
       "    <tr>\n",
       "      <th>1254</th>\n",
       "      <td>12 Jan 2022</td>\n",
       "      <td>Beechcraft 200 Super King Air</td>\n",
       "      <td>NaN</td>\n",
       "      <td>private</td>\n",
       "      <td>0</td>\n",
       "      <td>Machakilha, Toledo District, Grahem Creek area</td>\n",
       "      <td>w/o</td>\n",
       "    </tr>\n",
       "    <tr>\n",
       "      <th>...</th>\n",
       "      <td>...</td>\n",
       "      <td>...</td>\n",
       "      <td>...</td>\n",
       "      <td>...</td>\n",
       "      <td>...</td>\n",
       "      <td>...</td>\n",
       "      <td>...</td>\n",
       "    </tr>\n",
       "    <tr>\n",
       "      <th>2495</th>\n",
       "      <td>20 Dec 2018</td>\n",
       "      <td>Cessna 560 Citation V</td>\n",
       "      <td>N188CW</td>\n",
       "      <td>Chen Aircrafts LLC</td>\n",
       "      <td>4</td>\n",
       "      <td>2 km NE of Atlanta-Fulton County Airport, GA (...</td>\n",
       "      <td>w/o</td>\n",
       "    </tr>\n",
       "    <tr>\n",
       "      <th>2496</th>\n",
       "      <td>22 Dec 2018</td>\n",
       "      <td>PZL-Mielec M28 Skytruck</td>\n",
       "      <td>GNB-96107</td>\n",
       "      <td>Guardia Nacional Bolivariana de Venezuela - GNBV</td>\n",
       "      <td>0</td>\n",
       "      <td>Kamarata Airport (KTV)</td>\n",
       "      <td>sub</td>\n",
       "    </tr>\n",
       "    <tr>\n",
       "      <th>2497</th>\n",
       "      <td>24 Dec 2018</td>\n",
       "      <td>Antonov An-26B</td>\n",
       "      <td>9T-TAB</td>\n",
       "      <td>Air Force of the Democratic Republic of the Congo</td>\n",
       "      <td>0</td>\n",
       "      <td>Beni Airport (BNC)</td>\n",
       "      <td>w/o</td>\n",
       "    </tr>\n",
       "    <tr>\n",
       "      <th>2498</th>\n",
       "      <td>31 Dec 2018</td>\n",
       "      <td>Boeing 757-2B7 (WL)</td>\n",
       "      <td>N938UW</td>\n",
       "      <td>American Airlines</td>\n",
       "      <td>0</td>\n",
       "      <td>Charlotte-Douglas International Airport, NC (C...</td>\n",
       "      <td>sub</td>\n",
       "    </tr>\n",
       "    <tr>\n",
       "      <th>2499</th>\n",
       "      <td>unk. date 2018</td>\n",
       "      <td>Rockwell Sabreliner 80</td>\n",
       "      <td>N337KL</td>\n",
       "      <td>private</td>\n",
       "      <td>0</td>\n",
       "      <td>Eugene Airport, OR (EUG)</td>\n",
       "      <td>sub</td>\n",
       "    </tr>\n",
       "  </tbody>\n",
       "</table>\n",
       "<p>1250 rows × 7 columns</p>\n",
       "</div>"
      ],
      "text/plain": [
       "            acc.date                                 type        reg  \\\n",
       "1250      3 Jan 2022  British Aerospace 4121 Jetstream 41     ZS-NRJ   \n",
       "1251      4 Jan 2022  British Aerospace 3101 Jetstream 31     HR-AYY   \n",
       "1252      5 Jan 2022                       Boeing 737-4H6     EP-CAP   \n",
       "1253      8 Jan 2022                  Tupolev Tu-204-100C   RA-64032   \n",
       "1254     12 Jan 2022        Beechcraft 200 Super King Air        NaN   \n",
       "...              ...                                  ...        ...   \n",
       "2495     20 Dec 2018                Cessna 560 Citation V     N188CW   \n",
       "2496     22 Dec 2018              PZL-Mielec M28 Skytruck  GNB-96107   \n",
       "2497     24 Dec 2018                       Antonov An-26B     9T-TAB   \n",
       "2498     31 Dec 2018                  Boeing 757-2B7 (WL)     N938UW   \n",
       "2499  unk. date 2018               Rockwell Sabreliner 80     N337KL   \n",
       "\n",
       "                                               operator fat  \\\n",
       "1250                                         SA Airlink   0   \n",
       "1251      LANHSA - Línea Aérea Nacional de Honduras S.A   0   \n",
       "1252                                   Caspian Airlines   0   \n",
       "1253                           Cainiao, opb Aviastar-TU   0   \n",
       "1254                                            private   0   \n",
       "...                                                 ...  ..   \n",
       "2495                                 Chen Aircrafts LLC   4   \n",
       "2496   Guardia Nacional Bolivariana de Venezuela - GNBV   0   \n",
       "2497  Air Force of the Democratic Republic of the Congo   0   \n",
       "2498                                  American Airlines   0   \n",
       "2499                                            private   0   \n",
       "\n",
       "                                               location  dmg  \n",
       "1250                          near Venetia Mine Airport  sub  \n",
       "1251  Roatán-Juan Manuel Gálvez International Airpor...  sub  \n",
       "1252              Isfahan-Shahid Beheshti Airport (IFN)  sub  \n",
       "1253      Hangzhou Xiaoshan International Airport (HGH)  w/o  \n",
       "1254     Machakilha, Toledo District, Grahem Creek area  w/o  \n",
       "...                                                 ...  ...  \n",
       "2495  2 km NE of Atlanta-Fulton County Airport, GA (...  w/o  \n",
       "2496                             Kamarata Airport (KTV)  sub  \n",
       "2497                                 Beni Airport (BNC)  w/o  \n",
       "2498  Charlotte-Douglas International Airport, NC (C...  sub  \n",
       "2499                           Eugene Airport, OR (EUG)  sub  \n",
       "\n",
       "[1250 rows x 7 columns]"
      ]
     },
     "execution_count": 16,
     "metadata": {},
     "output_type": "execute_result"
    }
   ],
   "source": [
    "df[df.duplicated()]"
   ]
  },
  {
   "cell_type": "code",
   "execution_count": 17,
   "id": "fab1225c",
   "metadata": {
    "execution": {
     "iopub.execute_input": "2025-07-17T11:43:03.472668Z",
     "iopub.status.busy": "2025-07-17T11:43:03.472331Z",
     "iopub.status.idle": "2025-07-17T11:43:03.481729Z",
     "shell.execute_reply": "2025-07-17T11:43:03.480741Z"
    },
    "papermill": {
     "duration": 0.023077,
     "end_time": "2025-07-17T11:43:03.483254",
     "exception": false,
     "start_time": "2025-07-17T11:43:03.460177",
     "status": "completed"
    },
    "tags": []
   },
   "outputs": [
    {
     "data": {
      "text/plain": [
       "False"
      ]
     },
     "execution_count": 17,
     "metadata": {},
     "output_type": "execute_result"
    }
   ],
   "source": [
    "first_half = df.iloc[:1250]\n",
    "second_half = df.iloc[1250:]\n",
    "\n",
    "(first_half.reset_index(drop=True) == second_half.reset_index(drop=True)).all().all()"
   ]
  },
  {
   "cell_type": "code",
   "execution_count": 18,
   "id": "80c81633",
   "metadata": {
    "execution": {
     "iopub.execute_input": "2025-07-17T11:43:03.507284Z",
     "iopub.status.busy": "2025-07-17T11:43:03.506940Z",
     "iopub.status.idle": "2025-07-17T11:43:03.827466Z",
     "shell.execute_reply": "2025-07-17T11:43:03.826529Z"
    },
    "papermill": {
     "duration": 0.334324,
     "end_time": "2025-07-17T11:43:03.829155",
     "exception": false,
     "start_time": "2025-07-17T11:43:03.494831",
     "status": "completed"
    },
    "tags": []
   },
   "outputs": [
    {
     "data": {
      "image/png": "[encoded data removed]",
      "text/plain": [
       "<Figure size 1000x500 with 1 Axes>"
      ]
     },
     "metadata": {},
     "output_type": "display_data"
    }
   ],
   "source": [
    "# Visualizing Duplicates\n",
    "# sns.heatmap() expects a 2D matrix (like df.isnull()), not a 1D series (duplicated() returns a 1D boolean series)\n",
    "# Create a matrix where True = Duplicate value in its column\n",
    "dup_matrix = df.apply(lambda col : col.duplicated(keep=False))\n",
    "plt.figure(figsize=(10, 5))\n",
    "sns.heatmap(dup_matrix, cbar=False, cmap='viridis')\n",
    "plt.title('Duplicate Values by Column')\n",
    "plt.show()"
   ]
  },
  {
   "cell_type": "markdown",
   "id": "6507b069",
   "metadata": {
    "papermill": {
     "duration": 0.011461,
     "end_time": "2025-07-17T11:43:03.852851",
     "exception": false,
     "start_time": "2025-07-17T11:43:03.841390",
     "status": "completed"
    },
    "tags": []
   },
   "source": [
    "# **Univariate Analysis: Variable by Variable**"
   ]
  },
  {
   "cell_type": "markdown",
   "id": "01d97681",
   "metadata": {
    "papermill": {
     "duration": 0.012326,
     "end_time": "2025-07-17T11:43:03.877479",
     "exception": false,
     "start_time": "2025-07-17T11:43:03.865153",
     "status": "completed"
    },
    "tags": []
   },
   "source": [
    "***1.Temporal Analysis The \"acc.date\" variable***"
   ]
  },
  {
   "cell_type": "code",
   "execution_count": 19,
   "id": "ec2a6027",
   "metadata": {
    "execution": {
     "iopub.execute_input": "2025-07-17T11:43:03.904248Z",
     "iopub.status.busy": "2025-07-17T11:43:03.903921Z",
     "iopub.status.idle": "2025-07-17T11:43:03.911307Z",
     "shell.execute_reply": "2025-07-17T11:43:03.910539Z"
    },
    "papermill": {
     "duration": 0.02272,
     "end_time": "2025-07-17T11:43:03.912734",
     "exception": false,
     "start_time": "2025-07-17T11:43:03.890014",
     "status": "completed"
    },
    "tags": []
   },
   "outputs": [
    {
     "data": {
      "text/plain": [
       "0           3 Jan 2022\n",
       "1           4 Jan 2022\n",
       "2           5 Jan 2022\n",
       "3           8 Jan 2022\n",
       "4          12 Jan 2022\n",
       "             ...      \n",
       "2495       20 Dec 2018\n",
       "2496       22 Dec 2018\n",
       "2497       24 Dec 2018\n",
       "2498       31 Dec 2018\n",
       "2499    unk. date 2018\n",
       "Name: acc.date, Length: 2500, dtype: object"
      ]
     },
     "execution_count": 19,
     "metadata": {},
     "output_type": "execute_result"
    }
   ],
   "source": [
    "df[\"acc.date\"]"
   ]
  },
  {
   "cell_type": "code",
   "execution_count": 20,
   "id": "5152f7ad",
   "metadata": {
    "execution": {
     "iopub.execute_input": "2025-07-17T11:43:03.938401Z",
     "iopub.status.busy": "2025-07-17T11:43:03.937983Z",
     "iopub.status.idle": "2025-07-17T11:43:03.953284Z",
     "shell.execute_reply": "2025-07-17T11:43:03.952300Z"
    },
    "papermill": {
     "duration": 0.030268,
     "end_time": "2025-07-17T11:43:03.955011",
     "exception": false,
     "start_time": "2025-07-17T11:43:03.924743",
     "status": "completed"
    },
    "tags": []
   },
   "outputs": [
    {
     "data": {
      "text/html": [
       "<div>\n",
       "<style scoped>\n",
       "    .dataframe tbody tr th:only-of-type {\n",
       "        vertical-align: middle;\n",
       "    }\n",
       "\n",
       "    .dataframe tbody tr th {\n",
       "        vertical-align: top;\n",
       "    }\n",
       "\n",
       "    .dataframe thead th {\n",
       "        text-align: right;\n",
       "    }\n",
       "</style>\n",
       "<table border=\"1\" class=\"dataframe\">\n",
       "  <thead>\n",
       "    <tr style=\"text-align: right;\">\n",
       "      <th></th>\n",
       "      <th>acc.date</th>\n",
       "      <th>type</th>\n",
       "      <th>reg</th>\n",
       "      <th>operator</th>\n",
       "      <th>fat</th>\n",
       "      <th>location</th>\n",
       "      <th>dmg</th>\n",
       "    </tr>\n",
       "  </thead>\n",
       "  <tbody>\n",
       "    <tr>\n",
       "      <th>101</th>\n",
       "      <td>xx Jun 2022</td>\n",
       "      <td>Antonov An-2R</td>\n",
       "      <td>RA-17951</td>\n",
       "      <td>Voskhod LLC</td>\n",
       "      <td>0</td>\n",
       "      <td>near Oymyakon Airfield</td>\n",
       "      <td>sub</td>\n",
       "    </tr>\n",
       "    <tr>\n",
       "      <th>233</th>\n",
       "      <td>xx Jan 2021</td>\n",
       "      <td>Antonov An-2</td>\n",
       "      <td>NaN</td>\n",
       "      <td>Korean People's Army Air and Anti-Air Force (K...</td>\n",
       "      <td>5</td>\n",
       "      <td>near Taechon Air Base</td>\n",
       "      <td>w/o</td>\n",
       "    </tr>\n",
       "    <tr>\n",
       "      <th>1249</th>\n",
       "      <td>unk. date 2018</td>\n",
       "      <td>Rockwell Sabreliner 80</td>\n",
       "      <td>N337KL</td>\n",
       "      <td>private</td>\n",
       "      <td>0</td>\n",
       "      <td>Eugene Airport, OR (EUG)</td>\n",
       "      <td>sub</td>\n",
       "    </tr>\n",
       "    <tr>\n",
       "      <th>1351</th>\n",
       "      <td>xx Jun 2022</td>\n",
       "      <td>Antonov An-2R</td>\n",
       "      <td>RA-17951</td>\n",
       "      <td>Voskhod LLC</td>\n",
       "      <td>0</td>\n",
       "      <td>near Oymyakon Airfield</td>\n",
       "      <td>sub</td>\n",
       "    </tr>\n",
       "    <tr>\n",
       "      <th>1483</th>\n",
       "      <td>xx Jan 2021</td>\n",
       "      <td>Antonov An-2</td>\n",
       "      <td>NaN</td>\n",
       "      <td>Korean People's Army Air and Anti-Air Force (K...</td>\n",
       "      <td>5</td>\n",
       "      <td>near Taechon Air Base</td>\n",
       "      <td>w/o</td>\n",
       "    </tr>\n",
       "    <tr>\n",
       "      <th>2499</th>\n",
       "      <td>unk. date 2018</td>\n",
       "      <td>Rockwell Sabreliner 80</td>\n",
       "      <td>N337KL</td>\n",
       "      <td>private</td>\n",
       "      <td>0</td>\n",
       "      <td>Eugene Airport, OR (EUG)</td>\n",
       "      <td>sub</td>\n",
       "    </tr>\n",
       "  </tbody>\n",
       "</table>\n",
       "</div>"
      ],
      "text/plain": [
       "            acc.date                    type       reg  \\\n",
       "101      xx Jun 2022           Antonov An-2R  RA-17951   \n",
       "233      xx Jan 2021            Antonov An-2       NaN   \n",
       "1249  unk. date 2018  Rockwell Sabreliner 80    N337KL   \n",
       "1351     xx Jun 2022           Antonov An-2R  RA-17951   \n",
       "1483     xx Jan 2021            Antonov An-2       NaN   \n",
       "2499  unk. date 2018  Rockwell Sabreliner 80    N337KL   \n",
       "\n",
       "                                               operator fat  \\\n",
       "101                                         Voskhod LLC   0   \n",
       "233   Korean People's Army Air and Anti-Air Force (K...   5   \n",
       "1249                                            private   0   \n",
       "1351                                        Voskhod LLC   0   \n",
       "1483  Korean People's Army Air and Anti-Air Force (K...   5   \n",
       "2499                                            private   0   \n",
       "\n",
       "                      location  dmg  \n",
       "101     near Oymyakon Airfield  sub  \n",
       "233      near Taechon Air Base  w/o  \n",
       "1249  Eugene Airport, OR (EUG)  sub  \n",
       "1351    near Oymyakon Airfield  sub  \n",
       "1483     near Taechon Air Base  w/o  \n",
       "2499  Eugene Airport, OR (EUG)  sub  "
      ]
     },
     "execution_count": 20,
     "metadata": {},
     "output_type": "execute_result"
    }
   ],
   "source": [
    "# Analyse the format of the acc.date\n",
    "df[~df[\"acc.date\"].str.match(r\"\\d{1,2} \\w{3} \\d{4}\", na=False)]"
   ]
  },
  {
   "cell_type": "code",
   "execution_count": 21,
   "id": "bd988675",
   "metadata": {
    "execution": {
     "iopub.execute_input": "2025-07-17T11:43:03.980630Z",
     "iopub.status.busy": "2025-07-17T11:43:03.980307Z",
     "iopub.status.idle": "2025-07-17T11:43:03.997226Z",
     "shell.execute_reply": "2025-07-17T11:43:03.996214Z"
    },
    "papermill": {
     "duration": 0.031773,
     "end_time": "2025-07-17T11:43:03.999115",
     "exception": false,
     "start_time": "2025-07-17T11:43:03.967342",
     "status": "completed"
    },
    "tags": []
   },
   "outputs": [],
   "source": [
    "# Convert acc.date to datetimme \n",
    "df[\"acc.date\"]= pd.to_datetime(df[\"acc.date\"], errors =\"coerce\")"
   ]
  },
  {
   "cell_type": "code",
   "execution_count": 22,
   "id": "fc1c680a",
   "metadata": {
    "execution": {
     "iopub.execute_input": "2025-07-17T11:43:04.026742Z",
     "iopub.status.busy": "2025-07-17T11:43:04.026406Z",
     "iopub.status.idle": "2025-07-17T11:43:04.034224Z",
     "shell.execute_reply": "2025-07-17T11:43:04.033320Z"
    },
    "papermill": {
     "duration": 0.023314,
     "end_time": "2025-07-17T11:43:04.035776",
     "exception": false,
     "start_time": "2025-07-17T11:43:04.012462",
     "status": "completed"
    },
    "tags": []
   },
   "outputs": [
    {
     "data": {
      "text/plain": [
       "0      2022-01-03\n",
       "1      2022-01-04\n",
       "2      2022-01-05\n",
       "3      2022-01-08\n",
       "4      2022-01-12\n",
       "          ...    \n",
       "2495   2018-12-20\n",
       "2496   2018-12-22\n",
       "2497   2018-12-24\n",
       "2498   2018-12-31\n",
       "2499          NaT\n",
       "Name: acc.date, Length: 2500, dtype: datetime64[ns]"
      ]
     },
     "execution_count": 22,
     "metadata": {},
     "output_type": "execute_result"
    }
   ],
   "source": [
    "df[\"acc.date\"]"
   ]
  },
  {
   "cell_type": "code",
   "execution_count": 23,
   "id": "fe669cf5",
   "metadata": {
    "execution": {
     "iopub.execute_input": "2025-07-17T11:43:04.061444Z",
     "iopub.status.busy": "2025-07-17T11:43:04.061127Z",
     "iopub.status.idle": "2025-07-17T11:43:04.067747Z",
     "shell.execute_reply": "2025-07-17T11:43:04.066964Z"
    },
    "papermill": {
     "duration": 0.021194,
     "end_time": "2025-07-17T11:43:04.069322",
     "exception": false,
     "start_time": "2025-07-17T11:43:04.048128",
     "status": "completed"
    },
    "tags": []
   },
   "outputs": [
    {
     "data": {
      "text/plain": [
       "acc.date                         NaT\n",
       "type          Rockwell Sabreliner 80\n",
       "reg                           N337KL\n",
       "operator                     private\n",
       "fat                                0\n",
       "location    Eugene Airport, OR (EUG)\n",
       "dmg                              sub\n",
       "Name: 1249, dtype: object"
      ]
     },
     "execution_count": 23,
     "metadata": {},
     "output_type": "execute_result"
    }
   ],
   "source": [
    "df.loc[1249]"
   ]
  },
  {
   "cell_type": "code",
   "execution_count": 24,
   "id": "c4625cd6",
   "metadata": {
    "execution": {
     "iopub.execute_input": "2025-07-17T11:43:04.095207Z",
     "iopub.status.busy": "2025-07-17T11:43:04.094866Z",
     "iopub.status.idle": "2025-07-17T11:43:04.106779Z",
     "shell.execute_reply": "2025-07-17T11:43:04.105797Z"
    },
    "papermill": {
     "duration": 0.026483,
     "end_time": "2025-07-17T11:43:04.108255",
     "exception": false,
     "start_time": "2025-07-17T11:43:04.081772",
     "status": "completed"
    },
    "tags": []
   },
   "outputs": [
    {
     "data": {
      "text/html": [
       "<div>\n",
       "<style scoped>\n",
       "    .dataframe tbody tr th:only-of-type {\n",
       "        vertical-align: middle;\n",
       "    }\n",
       "\n",
       "    .dataframe tbody tr th {\n",
       "        vertical-align: top;\n",
       "    }\n",
       "\n",
       "    .dataframe thead th {\n",
       "        text-align: right;\n",
       "    }\n",
       "</style>\n",
       "<table border=\"1\" class=\"dataframe\">\n",
       "  <thead>\n",
       "    <tr style=\"text-align: right;\">\n",
       "      <th></th>\n",
       "      <th>acc.date</th>\n",
       "      <th>type</th>\n",
       "      <th>reg</th>\n",
       "      <th>operator</th>\n",
       "      <th>fat</th>\n",
       "      <th>location</th>\n",
       "      <th>dmg</th>\n",
       "    </tr>\n",
       "  </thead>\n",
       "  <tbody>\n",
       "    <tr>\n",
       "      <th>101</th>\n",
       "      <td>NaT</td>\n",
       "      <td>Antonov An-2R</td>\n",
       "      <td>RA-17951</td>\n",
       "      <td>Voskhod LLC</td>\n",
       "      <td>0</td>\n",
       "      <td>near Oymyakon Airfield</td>\n",
       "      <td>sub</td>\n",
       "    </tr>\n",
       "    <tr>\n",
       "      <th>233</th>\n",
       "      <td>NaT</td>\n",
       "      <td>Antonov An-2</td>\n",
       "      <td>NaN</td>\n",
       "      <td>Korean People's Army Air and Anti-Air Force (K...</td>\n",
       "      <td>5</td>\n",
       "      <td>near Taechon Air Base</td>\n",
       "      <td>w/o</td>\n",
       "    </tr>\n",
       "    <tr>\n",
       "      <th>1249</th>\n",
       "      <td>NaT</td>\n",
       "      <td>Rockwell Sabreliner 80</td>\n",
       "      <td>N337KL</td>\n",
       "      <td>private</td>\n",
       "      <td>0</td>\n",
       "      <td>Eugene Airport, OR (EUG)</td>\n",
       "      <td>sub</td>\n",
       "    </tr>\n",
       "    <tr>\n",
       "      <th>1351</th>\n",
       "      <td>NaT</td>\n",
       "      <td>Antonov An-2R</td>\n",
       "      <td>RA-17951</td>\n",
       "      <td>Voskhod LLC</td>\n",
       "      <td>0</td>\n",
       "      <td>near Oymyakon Airfield</td>\n",
       "      <td>sub</td>\n",
       "    </tr>\n",
       "    <tr>\n",
       "      <th>1483</th>\n",
       "      <td>NaT</td>\n",
       "      <td>Antonov An-2</td>\n",
       "      <td>NaN</td>\n",
       "      <td>Korean People's Army Air and Anti-Air Force (K...</td>\n",
       "      <td>5</td>\n",
       "      <td>near Taechon Air Base</td>\n",
       "      <td>w/o</td>\n",
       "    </tr>\n",
       "    <tr>\n",
       "      <th>2499</th>\n",
       "      <td>NaT</td>\n",
       "      <td>Rockwell Sabreliner 80</td>\n",
       "      <td>N337KL</td>\n",
       "      <td>private</td>\n",
       "      <td>0</td>\n",
       "      <td>Eugene Airport, OR (EUG)</td>\n",
       "      <td>sub</td>\n",
       "    </tr>\n",
       "  </tbody>\n",
       "</table>\n",
       "</div>"
      ],
      "text/plain": [
       "     acc.date                    type       reg  \\\n",
       "101       NaT           Antonov An-2R  RA-17951   \n",
       "233       NaT            Antonov An-2       NaN   \n",
       "1249      NaT  Rockwell Sabreliner 80    N337KL   \n",
       "1351      NaT           Antonov An-2R  RA-17951   \n",
       "1483      NaT            Antonov An-2       NaN   \n",
       "2499      NaT  Rockwell Sabreliner 80    N337KL   \n",
       "\n",
       "                                               operator fat  \\\n",
       "101                                         Voskhod LLC   0   \n",
       "233   Korean People's Army Air and Anti-Air Force (K...   5   \n",
       "1249                                            private   0   \n",
       "1351                                        Voskhod LLC   0   \n",
       "1483  Korean People's Army Air and Anti-Air Force (K...   5   \n",
       "2499                                            private   0   \n",
       "\n",
       "                      location  dmg  \n",
       "101     near Oymyakon Airfield  sub  \n",
       "233      near Taechon Air Base  w/o  \n",
       "1249  Eugene Airport, OR (EUG)  sub  \n",
       "1351    near Oymyakon Airfield  sub  \n",
       "1483     near Taechon Air Base  w/o  \n",
       "2499  Eugene Airport, OR (EUG)  sub  "
      ]
     },
     "execution_count": 24,
     "metadata": {},
     "output_type": "execute_result"
    }
   ],
   "source": [
    "df[df[\"acc.date\"].isna()]"
   ]
  },
  {
   "cell_type": "code",
   "execution_count": 25,
   "id": "6972159b",
   "metadata": {
    "execution": {
     "iopub.execute_input": "2025-07-17T11:43:04.134180Z",
     "iopub.status.busy": "2025-07-17T11:43:04.133836Z",
     "iopub.status.idle": "2025-07-17T11:43:04.140170Z",
     "shell.execute_reply": "2025-07-17T11:43:04.139319Z"
    },
    "papermill": {
     "duration": 0.021142,
     "end_time": "2025-07-17T11:43:04.141759",
     "exception": false,
     "start_time": "2025-07-17T11:43:04.120617",
     "status": "completed"
    },
    "tags": []
   },
   "outputs": [
    {
     "data": {
      "text/plain": [
       "6"
      ]
     },
     "execution_count": 25,
     "metadata": {},
     "output_type": "execute_result"
    }
   ],
   "source": [
    "df[\"acc.date\"].isna().sum()"
   ]
  },
  {
   "cell_type": "code",
   "execution_count": 26,
   "id": "a8f08666",
   "metadata": {
    "execution": {
     "iopub.execute_input": "2025-07-17T11:43:04.170210Z",
     "iopub.status.busy": "2025-07-17T11:43:04.169857Z",
     "iopub.status.idle": "2025-07-17T11:43:04.179149Z",
     "shell.execute_reply": "2025-07-17T11:43:04.177991Z"
    },
    "papermill": {
     "duration": 0.02593,
     "end_time": "2025-07-17T11:43:04.180928",
     "exception": false,
     "start_time": "2025-07-17T11:43:04.154998",
     "status": "completed"
    },
    "tags": []
   },
   "outputs": [],
   "source": [
    "# Drop rows with invalid acc.date\n",
    "df = df.dropna(subset=[\"acc.date\"])\n",
    "# Remove rows with NaN in acc.date, but keep all columns. Output type: DataFrame.\n",
    "# Warning:\n",
    "# df = df[\"acc.date\"].dropna()\n",
    "# Keeps only the acc.date column without NaN. Output type: 1D Series."
   ]
  },
  {
   "cell_type": "code",
   "execution_count": 27,
   "id": "5850d687",
   "metadata": {
    "execution": {
     "iopub.execute_input": "2025-07-17T11:43:04.209146Z",
     "iopub.status.busy": "2025-07-17T11:43:04.208816Z",
     "iopub.status.idle": "2025-07-17T11:43:04.214884Z",
     "shell.execute_reply": "2025-07-17T11:43:04.214066Z"
    },
    "papermill": {
     "duration": 0.022301,
     "end_time": "2025-07-17T11:43:04.216591",
     "exception": false,
     "start_time": "2025-07-17T11:43:04.194290",
     "status": "completed"
    },
    "tags": []
   },
   "outputs": [
    {
     "data": {
      "text/plain": [
       "0"
      ]
     },
     "execution_count": 27,
     "metadata": {},
     "output_type": "execute_result"
    }
   ],
   "source": [
    "df[\"acc.date\"].isna().sum()"
   ]
  },
  {
   "cell_type": "code",
   "execution_count": 28,
   "id": "38fdf810",
   "metadata": {
    "execution": {
     "iopub.execute_input": "2025-07-17T11:43:04.243317Z",
     "iopub.status.busy": "2025-07-17T11:43:04.242968Z",
     "iopub.status.idle": "2025-07-17T11:43:04.250817Z",
     "shell.execute_reply": "2025-07-17T11:43:04.249786Z"
    },
    "papermill": {
     "duration": 0.023344,
     "end_time": "2025-07-17T11:43:04.252657",
     "exception": false,
     "start_time": "2025-07-17T11:43:04.229313",
     "status": "completed"
    },
    "tags": []
   },
   "outputs": [],
   "source": [
    "# Extract year/month\n",
    "df[\"year\"] = df[\"acc.date\"].dt.year\n",
    "df[\"month\"] = df[\"acc.date\"].dt.month"
   ]
  },
  {
   "cell_type": "code",
   "execution_count": 29,
   "id": "34b99cda",
   "metadata": {
    "execution": {
     "iopub.execute_input": "2025-07-17T11:43:04.280960Z",
     "iopub.status.busy": "2025-07-17T11:43:04.280606Z",
     "iopub.status.idle": "2025-07-17T11:43:04.547991Z",
     "shell.execute_reply": "2025-07-17T11:43:04.547090Z"
    },
    "papermill": {
     "duration": 0.284144,
     "end_time": "2025-07-17T11:43:04.549660",
     "exception": false,
     "start_time": "2025-07-17T11:43:04.265516",
     "status": "completed"
    },
    "tags": []
   },
   "outputs": [
    {
     "data": {
      "image/png": "[encoded data removed]",
      "text/plain": [
       "<Figure size 1200x600 with 1 Axes>"
      ]
     },
     "metadata": {},
     "output_type": "display_data"
    }
   ],
   "source": [
    "# Accidents Per Year\n",
    "plt.figure(figsize=(12,6))\n",
    "df['year'].value_counts().sort_index().plot(kind='bar')\n",
    "plt.title('Yearly Accident Statistics', pad=20)\n",
    "plt.xlabel('Year')\n",
    "plt.ylabel('Number of Accidents')\n",
    "plt.show()"
   ]
  },
  {
   "cell_type": "markdown",
   "id": "ced5d1ab",
   "metadata": {
    "papermill": {
     "duration": 0.013256,
     "end_time": "2025-07-17T11:43:04.576094",
     "exception": false,
     "start_time": "2025-07-17T11:43:04.562838",
     "status": "completed"
    },
    "tags": []
   },
   "source": [
    "***2. Aircraft Type Analysis: \"type\" variable***"
   ]
  },
  {
   "cell_type": "code",
   "execution_count": 30,
   "id": "645e78ea",
   "metadata": {
    "execution": {
     "iopub.execute_input": "2025-07-17T11:43:04.603059Z",
     "iopub.status.busy": "2025-07-17T11:43:04.602738Z",
     "iopub.status.idle": "2025-07-17T11:43:04.812986Z",
     "shell.execute_reply": "2025-07-17T11:43:04.811950Z"
    },
    "papermill": {
     "duration": 0.226277,
     "end_time": "2025-07-17T11:43:04.815128",
     "exception": false,
     "start_time": "2025-07-17T11:43:04.588851",
     "status": "completed"
    },
    "tags": []
   },
   "outputs": [
    {
     "data": {
      "text/plain": [
       "<Axes: xlabel='fat', ylabel='type'>"
      ]
     },
     "execution_count": 30,
     "metadata": {},
     "output_type": "execute_result"
    },
    {
     "data": {
      "image/png": "[encoded data removed]",
      "text/plain": [
       "<Figure size 640x480 with 1 Axes>"
      ]
     },
     "metadata": {},
     "output_type": "display_data"
    }
   ],
   "source": [
    "# Boxplot by Aircraft Type\n",
    "df['fat'] = pd.to_numeric(df['fat'], errors='coerce')  # Convert to numeric\n",
    "sns.boxplot(y=\"type\", x=\"fat\", data=df[df[\"type\"].isin(df[\"type\"].value_counts().head(5).index)])"
   ]
  },
  {
   "cell_type": "code",
   "execution_count": 31,
   "id": "74c4ee42",
   "metadata": {
    "execution": {
     "iopub.execute_input": "2025-07-17T11:43:04.845175Z",
     "iopub.status.busy": "2025-07-17T11:43:04.844842Z",
     "iopub.status.idle": "2025-07-17T11:43:05.075985Z",
     "shell.execute_reply": "2025-07-17T11:43:05.074852Z"
    },
    "papermill": {
     "duration": 0.248283,
     "end_time": "2025-07-17T11:43:05.077990",
     "exception": false,
     "start_time": "2025-07-17T11:43:04.829707",
     "status": "completed"
    },
    "tags": []
   },
   "outputs": [
    {
     "data": {
      "image/png": "[encoded data removed]",
      "text/plain": [
       "<Figure size 1000x600 with 1 Axes>"
      ]
     },
     "metadata": {},
     "output_type": "display_data"
    }
   ],
   "source": [
    "# Top 10 Most Accident-Prone Aircraft Types\n",
    "top_types = df[\"type\"].value_counts().head(10)\n",
    "# print(top_types)\n",
    "\n",
    "# Visualization\n",
    "plt.figure(figsize = (10,6))\n",
    "top_types.plot(kind='barh')\n",
    "plt.title(\"Top 10 Most Accident-Prone Aircraft Types\", pad=20)\n",
    "plt.xlabel(\"Number of accidents\")\n",
    "plt.ylabel(\"Aircarft Type\")\n",
    "plt.show()"
   ]
  },
  {
   "cell_type": "markdown",
   "id": "2fb9c9a9",
   "metadata": {
    "papermill": {
     "duration": 0.014263,
     "end_time": "2025-07-17T11:43:05.109361",
     "exception": false,
     "start_time": "2025-07-17T11:43:05.095098",
     "status": "completed"
    },
    "tags": []
   },
   "source": [
    "***3. Operator Analysis: \"operator\" variable***"
   ]
  },
  {
   "cell_type": "code",
   "execution_count": 32,
   "id": "a3230dc4",
   "metadata": {
    "execution": {
     "iopub.execute_input": "2025-07-17T11:43:05.140853Z",
     "iopub.status.busy": "2025-07-17T11:43:05.140558Z",
     "iopub.status.idle": "2025-07-17T11:43:05.150248Z",
     "shell.execute_reply": "2025-07-17T11:43:05.149216Z"
    },
    "papermill": {
     "duration": 0.028305,
     "end_time": "2025-07-17T11:43:05.152083",
     "exception": false,
     "start_time": "2025-07-17T11:43:05.123778",
     "status": "completed"
    },
    "tags": []
   },
   "outputs": [
    {
     "data": {
      "text/plain": [
       "operator\n",
       "private                                             204\n",
       "American Airlines                                    44\n",
       "Delta Air Lines                                      44\n",
       "Unknown                                              38\n",
       "Southwest Airlines                                   36\n",
       "                                                   ... \n",
       "Malu Aviation                                         2\n",
       "Aeromedevac Air Ambulance                             2\n",
       "Sky-Bound Aviation LLC                                2\n",
       "Halsted Aviation Corporation (HAC)                    2\n",
       "Guardia Nacional Bolivariana de Venezuela - GNBV      2\n",
       "Name: count, Length: 826, dtype: int64"
      ]
     },
     "execution_count": 32,
     "metadata": {},
     "output_type": "execute_result"
    }
   ],
   "source": [
    "df[\"operator\"].value_counts()"
   ]
  },
  {
   "cell_type": "code",
   "execution_count": 33,
   "id": "2784f4de",
   "metadata": {
    "execution": {
     "iopub.execute_input": "2025-07-17T11:43:05.186647Z",
     "iopub.status.busy": "2025-07-17T11:43:05.185884Z",
     "iopub.status.idle": "2025-07-17T11:43:05.477310Z",
     "shell.execute_reply": "2025-07-17T11:43:05.476335Z"
    },
    "papermill": {
     "duration": 0.309852,
     "end_time": "2025-07-17T11:43:05.478791",
     "exception": false,
     "start_time": "2025-07-17T11:43:05.168939",
     "status": "completed"
    },
    "tags": []
   },
   "outputs": [
    {
     "data": {
      "image/png": "[encoded data removed]",
      "text/plain": [
       "<Figure size 1000x600 with 1 Axes>"
      ]
     },
     "metadata": {},
     "output_type": "display_data"
    }
   ],
   "source": [
    "# Visualize the top 10 most frequent operators in accidents\n",
    "plt.figure(figsize=(10,6)) \n",
    "sns.countplot(y=\"operator\", \n",
    "             data=df,\n",
    "             order=df[\"operator\"].value_counts().iloc[:10].index,\n",
    "             palette=\"Blues_d\")  \n",
    "plt.title(\"Top 10 operators with the most accidents\", pad=20)\n",
    "plt.xlabel(\"Number of accidents\")\n",
    "plt.tight_layout()"
   ]
  },
  {
   "cell_type": "code",
   "execution_count": 34,
   "id": "c2a3e94a",
   "metadata": {
    "execution": {
     "iopub.execute_input": "2025-07-17T11:43:05.512632Z",
     "iopub.status.busy": "2025-07-17T11:43:05.512251Z",
     "iopub.status.idle": "2025-07-17T11:43:05.521615Z",
     "shell.execute_reply": "2025-07-17T11:43:05.520738Z"
    },
    "papermill": {
     "duration": 0.027966,
     "end_time": "2025-07-17T11:43:05.523188",
     "exception": false,
     "start_time": "2025-07-17T11:43:05.495222",
     "status": "completed"
    },
    "tags": []
   },
   "outputs": [
    {
     "data": {
      "text/plain": [
       "count        2480\n",
       "unique        826\n",
       "top       private\n",
       "freq          204\n",
       "Name: operator, dtype: object"
      ]
     },
     "execution_count": 34,
     "metadata": {},
     "output_type": "execute_result"
    }
   ],
   "source": [
    "df[\"operator\"].describe()"
   ]
  },
  {
   "cell_type": "code",
   "execution_count": 35,
   "id": "5a76aa10",
   "metadata": {
    "execution": {
     "iopub.execute_input": "2025-07-17T11:43:05.558727Z",
     "iopub.status.busy": "2025-07-17T11:43:05.558398Z",
     "iopub.status.idle": "2025-07-17T11:43:05.769547Z",
     "shell.execute_reply": "2025-07-17T11:43:05.768757Z"
    },
    "papermill": {
     "duration": 0.230449,
     "end_time": "2025-07-17T11:43:05.771421",
     "exception": false,
     "start_time": "2025-07-17T11:43:05.540972",
     "status": "completed"
    },
    "tags": []
   },
   "outputs": [
    {
     "data": {
      "image/png": "[encoded data removed]",
      "text/plain": [
       "<Figure size 1000x600 with 1 Axes>"
      ]
     },
     "metadata": {},
     "output_type": "display_data"
    }
   ],
   "source": [
    "# Top 10 operators with the most accidents - Aviation Safety Analysis\n",
    "# Operator-Victim Relationship Analysis\n",
    "operator_fat = df.groupby('operator')[\"fat\"].sum().sort_values(ascending=False).head(10)\n",
    "operator_fat.plot(kind='barh', figsize=(10,6))\n",
    "plt.title('Top 10 operators with the most accidents')\n",
    "plt.xlabel(\"Number of victims\")\n",
    "plt.ylabel(\"Operator\")\n",
    "plt.show()"
   ]
  },
  {
   "cell_type": "markdown",
   "id": "440e7e6f",
   "metadata": {
    "papermill": {
     "duration": 0.017348,
     "end_time": "2025-07-17T11:43:05.805522",
     "exception": false,
     "start_time": "2025-07-17T11:43:05.788174",
     "status": "completed"
    },
    "tags": []
   },
   "source": [
    "***4. Victim Analysis: \"fat\" variable***"
   ]
  },
  {
   "cell_type": "code",
   "execution_count": 36,
   "id": "95aadfbb",
   "metadata": {
    "execution": {
     "iopub.execute_input": "2025-07-17T11:43:05.839859Z",
     "iopub.status.busy": "2025-07-17T11:43:05.839537Z",
     "iopub.status.idle": "2025-07-17T11:43:05.849702Z",
     "shell.execute_reply": "2025-07-17T11:43:05.848681Z"
    },
    "papermill": {
     "duration": 0.029276,
     "end_time": "2025-07-17T11:43:05.851234",
     "exception": false,
     "start_time": "2025-07-17T11:43:05.821958",
     "status": "completed"
    },
    "tags": []
   },
   "outputs": [
    {
     "data": {
      "text/plain": [
       "count    2444.000000\n",
       "mean        1.860884\n",
       "std        13.198517\n",
       "min         0.000000\n",
       "25%         0.000000\n",
       "50%         0.000000\n",
       "75%         0.000000\n",
       "max       257.000000\n",
       "Name: fat, dtype: float64"
      ]
     },
     "execution_count": 36,
     "metadata": {},
     "output_type": "execute_result"
    }
   ],
   "source": [
    "df[\"fat\"].describe()"
   ]
  },
  {
   "cell_type": "code",
   "execution_count": 37,
   "id": "a5325577",
   "metadata": {
    "execution": {
     "iopub.execute_input": "2025-07-17T11:43:05.886750Z",
     "iopub.status.busy": "2025-07-17T11:43:05.886453Z",
     "iopub.status.idle": "2025-07-17T11:43:05.892883Z",
     "shell.execute_reply": "2025-07-17T11:43:05.892063Z"
    },
    "papermill": {
     "duration": 0.025663,
     "end_time": "2025-07-17T11:43:05.894221",
     "exception": false,
     "start_time": "2025-07-17T11:43:05.868558",
     "status": "completed"
    },
    "tags": []
   },
   "outputs": [
    {
     "data": {
      "text/plain": [
       "50"
      ]
     },
     "execution_count": 37,
     "metadata": {},
     "output_type": "execute_result"
    }
   ],
   "source": [
    "df[\"fat\"].isna().sum()"
   ]
  },
  {
   "cell_type": "code",
   "execution_count": 38,
   "id": "128bc0fa",
   "metadata": {
    "execution": {
     "iopub.execute_input": "2025-07-17T11:43:05.929735Z",
     "iopub.status.busy": "2025-07-17T11:43:05.929396Z",
     "iopub.status.idle": "2025-07-17T11:43:05.938185Z",
     "shell.execute_reply": "2025-07-17T11:43:05.936986Z"
    },
    "papermill": {
     "duration": 0.028798,
     "end_time": "2025-07-17T11:43:05.939939",
     "exception": false,
     "start_time": "2025-07-17T11:43:05.911141",
     "status": "completed"
    },
    "tags": []
   },
   "outputs": [],
   "source": [
    "# Drop rows with invalid/ inexistent fat value \n",
    "df= df.dropna(subset=[\"fat\"])"
   ]
  },
  {
   "cell_type": "code",
   "execution_count": 39,
   "id": "9158b5dd",
   "metadata": {
    "execution": {
     "iopub.execute_input": "2025-07-17T11:43:05.976895Z",
     "iopub.status.busy": "2025-07-17T11:43:05.976562Z",
     "iopub.status.idle": "2025-07-17T11:43:05.982938Z",
     "shell.execute_reply": "2025-07-17T11:43:05.981903Z"
    },
    "papermill": {
     "duration": 0.026971,
     "end_time": "2025-07-17T11:43:05.984444",
     "exception": false,
     "start_time": "2025-07-17T11:43:05.957473",
     "status": "completed"
    },
    "tags": []
   },
   "outputs": [
    {
     "data": {
      "text/plain": [
       "0"
      ]
     },
     "execution_count": 39,
     "metadata": {},
     "output_type": "execute_result"
    }
   ],
   "source": [
    "df[\"fat\"].isna().sum()"
   ]
  },
  {
   "cell_type": "code",
   "execution_count": 40,
   "id": "bbecf0cf",
   "metadata": {
    "execution": {
     "iopub.execute_input": "2025-07-17T11:43:06.019262Z",
     "iopub.status.busy": "2025-07-17T11:43:06.018931Z",
     "iopub.status.idle": "2025-07-17T11:43:06.028596Z",
     "shell.execute_reply": "2025-07-17T11:43:06.027758Z"
    },
    "papermill": {
     "duration": 0.028535,
     "end_time": "2025-07-17T11:43:06.029901",
     "exception": false,
     "start_time": "2025-07-17T11:43:06.001366",
     "status": "completed"
    },
    "tags": []
   },
   "outputs": [
    {
     "data": {
      "text/plain": [
       "fat\n",
       "0.0      2064\n",
       "1.0        86\n",
       "2.0        70\n",
       "3.0        38\n",
       "4.0        38\n",
       "5.0        22\n",
       "6.0        14\n",
       "9.0        12\n",
       "7.0        12\n",
       "10.0        8\n",
       "8.0         8\n",
       "11.0        8\n",
       "12.0        6\n",
       "15.0        4\n",
       "13.0        4\n",
       "20.0        4\n",
       "14.0        4\n",
       "18.0        4\n",
       "66.0        2\n",
       "38.0        2\n",
       "71.0        2\n",
       "257.0       2\n",
       "39.0        2\n",
       "51.0        2\n",
       "112.0       2\n",
       "41.0        2\n",
       "16.0        2\n",
       "157.0       2\n",
       "26.0        2\n",
       "21.0        2\n",
       "176.0       2\n",
       "28.0        2\n",
       "62.0        2\n",
       "19.0        2\n",
       "22.0        2\n",
       "132.0       2\n",
       "189.0       2\n",
       "Name: count, dtype: int64"
      ]
     },
     "execution_count": 40,
     "metadata": {},
     "output_type": "execute_result"
    }
   ],
   "source": [
    "df[\"fat\"].value_counts()"
   ]
  },
  {
   "cell_type": "code",
   "execution_count": 41,
   "id": "43f0a451",
   "metadata": {
    "execution": {
     "iopub.execute_input": "2025-07-17T11:43:06.066191Z",
     "iopub.status.busy": "2025-07-17T11:43:06.065853Z",
     "iopub.status.idle": "2025-07-17T11:43:06.382753Z",
     "shell.execute_reply": "2025-07-17T11:43:06.381874Z"
    },
    "papermill": {
     "duration": 0.337046,
     "end_time": "2025-07-17T11:43:06.384231",
     "exception": false,
     "start_time": "2025-07-17T11:43:06.047185",
     "status": "completed"
    },
    "tags": []
   },
   "outputs": [
    {
     "name": "stderr",
     "output_type": "stream",
     "text": [
      "/usr/local/lib/python3.11/dist-packages/seaborn/_oldcore.py:1119: FutureWarning: use_inf_as_na option is deprecated and will be removed in a future version. Convert inf values to NaN before operating instead.\n",
      "  with pd.option_context('mode.use_inf_as_na', True):\n"
     ]
    },
    {
     "data": {
      "image/png": "[encoded data removed]",
      "text/plain": [
       "<Figure size 1000x600 with 1 Axes>"
      ]
     },
     "metadata": {},
     "output_type": "display_data"
    }
   ],
   "source": [
    "# Distribution of Fatalities Count\n",
    "plt.figure(figsize=(10,6))\n",
    "sns.histplot(df['fat'], bins=50, kde=True)\n",
    "plt.title('Distribution of Fatalities Count', pad=20)\n",
    "plt.xlabel(\"Number of victims\")\n",
    "plt.ylabel(\"Number of accidents\")\n",
    "plt.show()"
   ]
  },
  {
   "cell_type": "code",
   "execution_count": 42,
   "id": "2fadb10d",
   "metadata": {
    "execution": {
     "iopub.execute_input": "2025-07-17T11:43:06.421242Z",
     "iopub.status.busy": "2025-07-17T11:43:06.420918Z",
     "iopub.status.idle": "2025-07-17T11:43:06.431508Z",
     "shell.execute_reply": "2025-07-17T11:43:06.430470Z"
    },
    "papermill": {
     "duration": 0.03119,
     "end_time": "2025-07-17T11:43:06.433008",
     "exception": false,
     "start_time": "2025-07-17T11:43:06.401818",
     "status": "completed"
    },
    "tags": []
   },
   "outputs": [
    {
     "name": "stdout",
     "output_type": "stream",
     "text": [
      "       acc.date                 type                            operator  \\\n",
      "1039 2018-04-11     Ilyushin Il-76TD  Al Quwwat al-Jawwiya al-Jaza'eriya   \n",
      "2289 2018-04-11     Ilyushin Il-76TD  Al Quwwat al-Jawwiya al-Jaza'eriya   \n",
      "2459 2018-10-29     Boeing 737 MAX 8                            Lion Air   \n",
      "1209 2018-10-29     Boeing 737 MAX 8                            Lion Air   \n",
      "444  2020-01-08  Boeing 737-8KV (WL)      Ukraine International Airlines   \n",
      "1694 2020-01-08  Boeing 737-8KV (WL)      Ukraine International Airlines   \n",
      "719  2019-03-10     Boeing 737 MAX 8                  Ethiopian Airlines   \n",
      "1969 2019-03-10     Boeing 737 MAX 8                  Ethiopian Airlines   \n",
      "1299 2022-03-21  Boeing 737-89P (WL)              China Eastern Airlines   \n",
      "49   2022-03-21  Boeing 737-89P (WL)              China Eastern Airlines   \n",
      "\n",
      "        fat                                     location  \n",
      "1039  257.0                       near Boufarik Air Base  \n",
      "2289  257.0                       near Boufarik Air Base  \n",
      "2459  189.0                   15 km N off Tanjung Bungin  \n",
      "1209  189.0                   15 km N off Tanjung Bungin  \n",
      "444   176.0                               near Sabashahr  \n",
      "1694  176.0                               near Sabashahr  \n",
      "719   157.0  50 km ESE of Addis Ababa-Bole Airport (ADD)  \n",
      "1969  157.0  50 km ESE of Addis Ababa-Bole Airport (ADD)  \n",
      "1299  132.0          20 km SW of Wuzhou, Tengxian County  \n",
      "49    132.0          20 km SW of Wuzhou, Tengxian County  \n"
     ]
    }
   ],
   "source": [
    "# Deadliest Accidents Analysis\n",
    "deadliest = df.sort_values('fat', ascending=False).head(10)\n",
    "print(deadliest[['acc.date', 'type', 'operator', 'fat', 'location']])"
   ]
  },
  {
   "cell_type": "markdown",
   "id": "bfe88b2b",
   "metadata": {
    "papermill": {
     "duration": 0.017336,
     "end_time": "2025-07-17T11:43:06.468350",
     "exception": false,
     "start_time": "2025-07-17T11:43:06.451014",
     "status": "completed"
    },
    "tags": []
   },
   "source": [
    "***5. Geographic Analysis: \"location\" variable***"
   ]
  },
  {
   "cell_type": "code",
   "execution_count": 43,
   "id": "cf14dd5b",
   "metadata": {
    "execution": {
     "iopub.execute_input": "2025-07-17T11:43:06.504900Z",
     "iopub.status.busy": "2025-07-17T11:43:06.504547Z",
     "iopub.status.idle": "2025-07-17T11:43:06.514676Z",
     "shell.execute_reply": "2025-07-17T11:43:06.513571Z"
    },
    "papermill": {
     "duration": 0.03055,
     "end_time": "2025-07-17T11:43:06.516348",
     "exception": false,
     "start_time": "2025-07-17T11:43:06.485798",
     "status": "completed"
    },
    "tags": []
   },
   "outputs": [
    {
     "data": {
      "text/plain": [
       "count                                                  2444\n",
       "unique                                                 1033\n",
       "top       Chicago-O'Hare International Airport, IL (ORD/...\n",
       "freq                                                     28\n",
       "Name: location, dtype: object"
      ]
     },
     "execution_count": 43,
     "metadata": {},
     "output_type": "execute_result"
    }
   ],
   "source": [
    "df[\"location\"].describe()"
   ]
  },
  {
   "cell_type": "code",
   "execution_count": 44,
   "id": "71da5415",
   "metadata": {
    "execution": {
     "iopub.execute_input": "2025-07-17T11:43:06.554199Z",
     "iopub.status.busy": "2025-07-17T11:43:06.553519Z",
     "iopub.status.idle": "2025-07-17T11:43:06.788477Z",
     "shell.execute_reply": "2025-07-17T11:43:06.787484Z"
    },
    "papermill": {
     "duration": 0.255951,
     "end_time": "2025-07-17T11:43:06.789964",
     "exception": false,
     "start_time": "2025-07-17T11:43:06.534013",
     "status": "completed"
    },
    "tags": []
   },
   "outputs": [
    {
     "data": {
      "image/png": "[encoded data removed]",
      "text/plain": [
       "<Figure size 1000x600 with 1 Axes>"
      ]
     },
     "metadata": {},
     "output_type": "display_data"
    }
   ],
   "source": [
    "# Top 10 Accident Locations\n",
    "# Distribution \n",
    "plt.figure(figsize=(10,6))\n",
    "sns.countplot(y=\"location\", \n",
    "             data=df,\n",
    "             order=df[\"location\"].value_counts().iloc[:10].index,\n",
    "             palette=\"Blues_d\")  \n",
    "plt.title(\"Top 10 Accident Locations\", pad=20)\n",
    "plt.xlabel(\"Nomber of accidents\")\n",
    "plt.ylabel(\"Location\")\n",
    "plt.show()"
   ]
  },
  {
   "cell_type": "markdown",
   "id": "6cc03adc",
   "metadata": {
    "papermill": {
     "duration": 0.019598,
     "end_time": "2025-07-17T11:43:06.829507",
     "exception": false,
     "start_time": "2025-07-17T11:43:06.809909",
     "status": "completed"
    },
    "tags": []
   },
   "source": [
    "***6. Damage Analysis: \"dmg\" variable***"
   ]
  },
  {
   "cell_type": "code",
   "execution_count": 45,
   "id": "7e5bd023",
   "metadata": {
    "execution": {
     "iopub.execute_input": "2025-07-17T11:43:06.869896Z",
     "iopub.status.busy": "2025-07-17T11:43:06.869444Z",
     "iopub.status.idle": "2025-07-17T11:43:07.023273Z",
     "shell.execute_reply": "2025-07-17T11:43:07.022131Z"
    },
    "papermill": {
     "duration": 0.176261,
     "end_time": "2025-07-17T11:43:07.024801",
     "exception": false,
     "start_time": "2025-07-17T11:43:06.848540",
     "status": "completed"
    },
    "tags": []
   },
   "outputs": [
    {
     "name": "stdout",
     "output_type": "stream",
     "text": [
      "dmg\n",
      "sub    1314\n",
      "w/o     672\n",
      "non     334\n",
      "min      94\n",
      "unk      30\n",
      "Name: count, dtype: int64\n"
     ]
    },
    {
     "data": {
      "image/png": "[encoded data removed]",
      "text/plain": [
       "<Figure size 800x800 with 1 Axes>"
      ]
     },
     "metadata": {},
     "output_type": "display_data"
    }
   ],
   "source": [
    "# Frequency of Damage Categories\n",
    "dmg_counts = df['dmg'].value_counts()\n",
    "print(dmg_counts)\n",
    "\n",
    "# Visualisation\n",
    "dmg_counts.plot(kind='pie', autopct='%1.1f%%', figsize=(8,8),\n",
    "               colors=['#66b3ff', '#99ff99', '#ffcc99', '#ff9999', '#c2c2f0'])\n",
    "plt.title('Distribution of Damage Categories')\n",
    "plt.show()"
   ]
  },
  {
   "cell_type": "markdown",
   "id": "2c10f495",
   "metadata": {
    "papermill": {
     "duration": 0.019905,
     "end_time": "2025-07-17T11:43:07.064724",
     "exception": false,
     "start_time": "2025-07-17T11:43:07.044819",
     "status": "completed"
    },
    "tags": []
   },
   "source": [
    "# ***Cross-Analysis***"
   ]
  },
  {
   "cell_type": "markdown",
   "id": "e18f7f04",
   "metadata": {
    "papermill": {
     "duration": 0.019311,
     "end_time": "2025-07-17T11:43:07.103866",
     "exception": false,
     "start_time": "2025-07-17T11:43:07.084555",
     "status": "completed"
    },
    "tags": []
   },
   "source": [
    "***1. Relationship between damage severity (dmg) and fatality count (fat)***"
   ]
  },
  {
   "cell_type": "code",
   "execution_count": 46,
   "id": "563a03af",
   "metadata": {
    "execution": {
     "iopub.execute_input": "2025-07-17T11:43:07.145811Z",
     "iopub.status.busy": "2025-07-17T11:43:07.145486Z",
     "iopub.status.idle": "2025-07-17T11:43:07.580244Z",
     "shell.execute_reply": "2025-07-17T11:43:07.579142Z"
    },
    "papermill": {
     "duration": 0.458321,
     "end_time": "2025-07-17T11:43:07.581999",
     "exception": false,
     "start_time": "2025-07-17T11:43:07.123678",
     "status": "completed"
    },
    "tags": []
   },
   "outputs": [
    {
     "data": {
      "image/png": "[encoded data removed]",
      "text/plain": [
       "<Figure size 1000x600 with 1 Axes>"
      ]
     },
     "metadata": {},
     "output_type": "display_data"
    }
   ],
   "source": [
    "# Relationship between damage severity (dmg) and fatality count (fat)\n",
    "df['fat'] = pd.to_numeric(df['fat'], errors='coerce')  # Convert to numeric\n",
    "plt.figure(figsize=(10, 6))\n",
    "sns.boxplot(x=\"dmg\", y=\"fat\", data=df, palette=\"viridis\",\n",
    "           #showfliers=False  # Better visualization without outliers)\n",
    "           )\n",
    "plt.title(\"Aircraft Damage Severity vs Fatalities\\nSafety Analysis\", fontsize=14, pad=20, fontweight='bold')\n",
    "plt.xlabel(\"Damage Severity Category\", fontsize=12)\n",
    "plt.ylabel(\"Number of Fatalities\", fontsize=12)\n",
    "plt.xticks(rotation=45,  ha='right')  \n",
    "plt.yscale('log')  # Better representation of fatality range            \n",
    "plt.grid(axis=\"y\", linestyle=\":\", alpha=0.4)\n",
    "plt.show()"
   ]
  },
  {
   "cell_type": "markdown",
   "id": "23c2c380",
   "metadata": {
    "papermill": {
     "duration": 0.020979,
     "end_time": "2025-07-17T11:43:07.624829",
     "exception": false,
     "start_time": "2025-07-17T11:43:07.603850",
     "status": "completed"
    },
    "tags": []
   },
   "source": [
    "\n",
    "> Findings: Elevated Outliers\n",
    "> \n",
    "> Key Observation:\n",
    ">\n",
    "> Several data points exceed 200 fatalities in \"No Damage\" (NONE) category, which is unexpected for accidents without structural damage.\n",
    "> \n",
    "> Potential Causes:\n",
    "> \n",
    "> Data entry error (most likely)\n",
    "> Medical emergencies or panic-induced casualties (secondary possibility)\n",
    "> Categorization error where damage was unreported but occurred\n"
   ]
  },
  {
   "cell_type": "markdown",
   "id": "47e31b47",
   "metadata": {
    "papermill": {
     "duration": 0.020642,
     "end_time": "2025-07-17T11:43:07.668282",
     "exception": false,
     "start_time": "2025-07-17T11:43:07.647640",
     "status": "completed"
    },
    "tags": []
   },
   "source": [
    "***2. Relationship between Aircraft type (type) and fatality count (fat)***"
   ]
  },
  {
   "cell_type": "code",
   "execution_count": 47,
   "id": "d770c6c6",
   "metadata": {
    "execution": {
     "iopub.execute_input": "2025-07-17T11:43:07.713397Z",
     "iopub.status.busy": "2025-07-17T11:43:07.713089Z",
     "iopub.status.idle": "2025-07-17T11:43:07.940009Z",
     "shell.execute_reply": "2025-07-17T11:43:07.938689Z"
    },
    "papermill": {
     "duration": 0.251436,
     "end_time": "2025-07-17T11:43:07.941972",
     "exception": false,
     "start_time": "2025-07-17T11:43:07.690536",
     "status": "completed"
    },
    "tags": []
   },
   "outputs": [
    {
     "data": {
      "image/png": "[encoded data removed]",
      "text/plain": [
       "<Figure size 1000x600 with 1 Axes>"
      ]
     },
     "metadata": {},
     "output_type": "display_data"
    }
   ],
   "source": [
    "# Aircraft Type vs Average Fatality Count\n",
    "type_fat = df.groupby('type')['fat'].mean().sort_values(ascending=False).head(10)\n",
    "type_fat.plot(kind='barh', figsize=(10,6))\n",
    "plt.title('Aircraft Types with Highest Average Fatalities')\n",
    "plt.show()\n"
   ]
  },
  {
   "cell_type": "markdown",
   "id": "8b2d347d",
   "metadata": {
    "papermill": {
     "duration": 0.022081,
     "end_time": "2025-07-17T11:43:07.986771",
     "exception": false,
     "start_time": "2025-07-17T11:43:07.964690",
     "status": "completed"
    },
    "tags": []
   },
   "source": [
    "***3. Correlation Matrix***"
   ]
  },
  {
   "cell_type": "code",
   "execution_count": 48,
   "id": "5b1f9df2",
   "metadata": {
    "execution": {
     "iopub.execute_input": "2025-07-17T11:43:08.032131Z",
     "iopub.status.busy": "2025-07-17T11:43:08.031212Z",
     "iopub.status.idle": "2025-07-17T11:43:08.355800Z",
     "shell.execute_reply": "2025-07-17T11:43:08.354847Z"
    },
    "papermill": {
     "duration": 0.348782,
     "end_time": "2025-07-17T11:43:08.357408",
     "exception": false,
     "start_time": "2025-07-17T11:43:08.008626",
     "status": "completed"
    },
    "tags": []
   },
   "outputs": [
    {
     "data": {
      "image/png": "[encoded data removed]",
      "text/plain": [
       "<Figure size 640x480 with 2 Axes>"
      ]
     },
     "metadata": {},
     "output_type": "display_data"
    }
   ],
   "source": [
    "# Correlation Matrix (for numerical variables)\n",
    "corr_matrix = df.corr(numeric_only=True)\n",
    "sns.heatmap(corr_matrix, annot=True, cmap='coolwarm')\n",
    "plt.title('Correlation Matrix')\n",
    "plt.show()"
   ]
  },
  {
   "cell_type": "markdown",
   "id": "daa77079",
   "metadata": {
    "papermill": {
     "duration": 0.021142,
     "end_time": "2025-07-17T11:43:08.400283",
     "exception": false,
     "start_time": "2025-07-17T11:43:08.379141",
     "status": "completed"
    },
    "tags": []
   },
   "source": [
    "# ***EDA Report***"
   ]
  },
  {
   "cell_type": "code",
   "execution_count": 49,
   "id": "a75c80f9",
   "metadata": {
    "execution": {
     "iopub.execute_input": "2025-07-17T11:43:08.447601Z",
     "iopub.status.busy": "2025-07-17T11:43:08.447283Z",
     "iopub.status.idle": "2025-07-17T11:43:23.086084Z",
     "shell.execute_reply": "2025-07-17T11:43:23.084998Z"
    },
    "papermill": {
     "duration": 14.665558,
     "end_time": "2025-07-17T11:43:23.087513",
     "exception": false,
     "start_time": "2025-07-17T11:43:08.421955",
     "status": "completed"
    },
    "tags": []
   },
   "outputs": [
    {
     "data": {
      "text/html": [
       "\n",
       "            <div>\n",
       "                <ins><a href=\"https://ydata.ai/register\">Upgrade to ydata-sdk</a></ins>\n",
       "                <p>\n",
       "                    Improve your data and profiling with ydata-sdk, featuring data quality scoring, redundancy detection, outlier identification, text validation, and synthetic data generation.\n",
       "                </p>\n",
       "            </div>\n",
       "            "
      ],
      "text/plain": [
       "<IPython.core.display.HTML object>"
      ]
     },
     "metadata": {},
     "output_type": "display_data"
    },
    {
     "data": {
      "application/vnd.jupyter.widget-view+json": {
       "model_id": "4b2809530b694110847014c122ca0563",
       "version_major": 2,
       "version_minor": 0
      },
      "text/plain": [
       "Summarize dataset:   0%|          | 0/5 [00:00<?, ?it/s]"
      ]
     },
     "metadata": {},
     "output_type": "display_data"
    },
    {
     "name": "stderr",
     "output_type": "stream",
     "text": [
      "\n",
      "  0%|          | 0/9 [00:00<?, ?it/s]\u001b[A\n",
      " 22%|██▏       | 2/9 [00:00<00:00, 14.58it/s]\u001b[A\n",
      "100%|██████████| 9/9 [00:00<00:00, 34.70it/s]\n",
      "/usr/local/lib/python3.11/dist-packages/ydata_profiling/model/pandas/discretize_pandas.py:52: FutureWarning: Setting an item of incompatible dtype is deprecated and will raise in a future error of pandas. Value '[9 9 9 ... 0 0 0]' has dtype incompatible with int32, please explicitly cast to a compatible dtype first.\n",
      "  discretized_df.loc[:, column] = self._discretize_column(\n",
      "/usr/local/lib/python3.11/dist-packages/ydata_profiling/model/pandas/discretize_pandas.py:52: FutureWarning: Setting an item of incompatible dtype is deprecated and will raise in a future error of pandas. Value '[0 0 0 ... 9 9 9]' has dtype incompatible with int32, please explicitly cast to a compatible dtype first.\n",
      "  discretized_df.loc[:, column] = self._discretize_column(\n"
     ]
    },
    {
     "data": {
      "application/vnd.jupyter.widget-view+json": {
       "model_id": "175096ef428c4c1ea94402e5aa7cd442",
       "version_major": 2,
       "version_minor": 0
      },
      "text/plain": [
       "Generate report structure:   0%|          | 0/1 [00:00<?, ?it/s]"
      ]
     },
     "metadata": {},
     "output_type": "display_data"
    },
    {
     "data": {
      "application/vnd.jupyter.widget-view+json": {
       "model_id": "9fb439880d344ce4b94e2138a8531ecc",
       "version_major": 2,
       "version_minor": 0
      },
      "text/plain": [
       "Render HTML:   0%|          | 0/1 [00:00<?, ?it/s]"
      ]
     },
     "metadata": {},
     "output_type": "display_data"
    },
    {
     "data": {
      "application/vnd.jupyter.widget-view+json": {
       "model_id": "8347b941b4004b93ada59aa2d3092e20",
       "version_major": 2,
       "version_minor": 0
      },
      "text/plain": [
       "Export report to file:   0%|          | 0/1 [00:00<?, ?it/s]"
      ]
     },
     "metadata": {},
     "output_type": "display_data"
    }
   ],
   "source": [
    "# Generates a comprehensive automated EDA report using ydata-profiling\n",
    "from ydata_profiling import ProfileReport\n",
    "\n",
    "profile = ProfileReport(df, title=\"Rapport complet\", explorative=True)\n",
    "profile.to_file(\"rapport_EDA.html\")\n"
   ]
  },
  {
   "cell_type": "code",
   "execution_count": null,
   "id": "3a9779e8",
   "metadata": {
    "papermill": {
     "duration": 0.024491,
     "end_time": "2025-07-17T11:43:23.137349",
     "exception": false,
     "start_time": "2025-07-17T11:43:23.112858",
     "status": "completed"
    },
    "tags": []
   },
   "outputs": [],
   "source": []
  }
 ],
 "metadata": {
  "kaggle": {
   "accelerator": "none",
   "dataSources": [
    {
     "datasetId": 7826477,
     "sourceId": 12409970,
     "sourceType": "datasetVersion"
    }
   ],
   "dockerImageVersionId": 31089,
   "isGpuEnabled": false,
   "isInternetEnabled": true,
   "language": "python",
   "sourceType": "notebook"
  },
  "kernelspec": {
   "display_name": "Python 3",
   "language": "python",
   "name": "python3"
  },
  "language_info": {
   "codemirror_mode": {
    "name": "ipython",
    "version": 3
   },
   "file_extension": ".py",
   "mimetype": "text/x-python",
   "name": "python",
   "nbconvert_exporter": "python",
   "pygments_lexer": "ipython3",
   "version": "3.11.13"
  },
  "papermill": {
   "default_parameters": {},
   "duration": 31.10658,
   "end_time": "2025-07-17T11:43:24.387655",
   "environment_variables": {},
   "exception": null,
   "input_path": "__notebook__.ipynb",
   "output_path": "__notebook__.ipynb",
   "parameters": {},
   "start_time": "2025-07-17T11:42:53.281075",
   "version": "2.6.0"
  },
  "widgets": {
   "application/vnd.jupyter.widget-state+json": {
    "state": {
     "0420dbfa718b46d1b98eb47f2701bd41": {
      "model_module": "@jupyter-widgets/controls",
      "model_module_version": "2.0.0",
      "model_name": "HTMLStyleModel",
      "state": {
       "_model_module": "@jupyter-widgets/controls",
       "_model_module_version": "2.0.0",
       "_model_name": "HTMLStyleModel",
       "_view_count": null,
       "_view_module": "@jupyter-widgets/base",
       "_view_module_version": "2.0.0",
       "_view_name": "StyleView",
       "background": null,
       "description_width": "",
       "font_size": null,
       "text_color": null
      }
     },
     "053d4b19636e45608ef2d4bd29b4ac56": {
      "model_module": "@jupyter-widgets/controls",
      "model_module_version": "2.0.0",
      "model_name": "ProgressStyleModel",
      "state": {
       "_model_module": "@jupyter-widgets/controls",
       "_model_module_version": "2.0.0",
       "_model_name": "ProgressStyleModel",
       "_view_count": null,
       "_view_module": "@jupyter-widgets/base",
       "_view_module_version": "2.0.0",
       "_view_name": "StyleView",
       "bar_color": null,
       "description_width": ""
      }
     },
     "1222af7318f443b8ae1321c44d86777f": {
      "model_module": "@jupyter-widgets/base",
      "model_module_version": "2.0.0",
      "model_name": "LayoutModel",
      "state": {
       "_model_module": "@jupyter-widgets/base",
       "_model_module_version": "2.0.0",
       "_model_name": "LayoutModel",
       "_view_count": null,
       "_view_module": "@jupyter-widgets/base",
       "_view_module_version": "2.0.0",
       "_view_name": "LayoutView",
       "align_content": null,
       "align_items": null,
       "align_self": null,
       "border_bottom": null,
       "border_left": null,
       "border_right": null,
       "border_top": null,
       "bottom": null,
       "display": null,
       "flex": null,
       "flex_flow": null,
       "grid_area": null,
       "grid_auto_columns": null,
       "grid_auto_flow": null,
       "grid_auto_rows": null,
       "grid_column": null,
       "grid_gap": null,
       "grid_row": null,
       "grid_template_areas": null,
       "grid_template_columns": null,
       "grid_template_rows": null,
       "height": null,
       "justify_content": null,
       "justify_items": null,
       "left": null,
       "margin": null,
       "max_height": null,
       "max_width": null,
       "min_height": null,
       "min_width": null,
       "object_fit": null,
       "object_position": null,
       "order": null,
       "overflow": null,
       "padding": null,
       "right": null,
       "top": null,
       "visibility": null,
       "width": null
      }
     },
     "1358aeddf7194728914fe50dd860aecb": {
      "model_module": "@jupyter-widgets/controls",
      "model_module_version": "2.0.0",
      "model_name": "HTMLStyleModel",
      "state": {
       "_model_module": "@jupyter-widgets/controls",
       "_model_module_version": "2.0.0",
       "_model_name": "HTMLStyleModel",
       "_view_count": null,
       "_view_module": "@jupyter-widgets/base",
       "_view_module_version": "2.0.0",
       "_view_name": "StyleView",
       "background": null,
       "description_width": "",
       "font_size": null,
       "text_color": null
      }
     },
     "175096ef428c4c1ea94402e5aa7cd442": {
      "model_module": "@jupyter-widgets/controls",
      "model_module_version": "2.0.0",
      "model_name": "HBoxModel",
      "state": {
       "_dom_classes": [],
       "_model_module": "@jupyter-widgets/controls",
       "_model_module_version": "2.0.0",
       "_model_name": "HBoxModel",
       "_view_count": null,
       "_view_module": "@jupyter-widgets/controls",
       "_view_module_version": "2.0.0",
       "_view_name": "HBoxView",
       "box_style": "",
       "children": [
        "IPY_MODEL_ebd0ad00e318445da8438b1b85eda51f",
        "IPY_MODEL_cf9893d785cc438fb4695e54b8a86a15",
        "IPY_MODEL_c6bba312d13c48a7a29838157cff6ab2"
       ],
       "layout": "IPY_MODEL_17678456cdd847b5b8a2a46b43dc6c9a",
       "tabbable": null,
       "tooltip": null
      }
     },
     "17678456cdd847b5b8a2a46b43dc6c9a": {
      "model_module": "@jupyter-widgets/base",
      "model_module_version": "2.0.0",
      "model_name": "LayoutModel",
      "state": {
       "_model_module": "@jupyter-widgets/base",
       "_model_module_version": "2.0.0",
       "_model_name": "LayoutModel",
       "_view_count": null,
       "_view_module": "@jupyter-widgets/base",
       "_view_module_version": "2.0.0",
       "_view_name": "LayoutView",
       "align_content": null,
       "align_items": null,
       "align_self": null,
       "border_bottom": null,
       "border_left": null,
       "border_right": null,
       "border_top": null,
       "bottom": null,
       "display": null,
       "flex": null,
       "flex_flow": null,
       "grid_area": null,
       "grid_auto_columns": null,
       "grid_auto_flow": null,
       "grid_auto_rows": null,
       "grid_column": null,
       "grid_gap": null,
       "grid_row": null,
       "grid_template_areas": null,
       "grid_template_columns": null,
       "grid_template_rows": null,
       "height": null,
       "justify_content": null,
       "justify_items": null,
       "left": null,
       "margin": null,
       "max_height": null,
       "max_width": null,
       "min_height": null,
       "min_width": null,
       "object_fit": null,
       "object_position": null,
       "order": null,
       "overflow": null,
       "padding": null,
       "right": null,
       "top": null,
       "visibility": null,
       "width": null
      }
     },
     "25379db1f29449d9be042665062f9d9d": {
      "model_module": "@jupyter-widgets/base",
      "model_module_version": "2.0.0",
      "model_name": "LayoutModel",
      "state": {
       "_model_module": "@jupyter-widgets/base",
       "_model_module_version": "2.0.0",
       "_model_name": "LayoutModel",
       "_view_count": null,
       "_view_module": "@jupyter-widgets/base",
       "_view_module_version": "2.0.0",
       "_view_name": "LayoutView",
       "align_content": null,
       "align_items": null,
       "align_self": null,
       "border_bottom": null,
       "border_left": null,
       "border_right": null,
       "border_top": null,
       "bottom": null,
       "display": null,
       "flex": null,
       "flex_flow": null,
       "grid_area": null,
       "grid_auto_columns": null,
       "grid_auto_flow": null,
       "grid_auto_rows": null,
       "grid_column": null,
       "grid_gap": null,
       "grid_row": null,
       "grid_template_areas": null,
       "grid_template_columns": null,
       "grid_template_rows": null,
       "height": null,
       "justify_content": null,
       "justify_items": null,
       "left": null,
       "margin": null,
       "max_height": null,
       "max_width": null,
       "min_height": null,
       "min_width": null,
       "object_fit": null,
       "object_position": null,
       "order": null,
       "overflow": null,
       "padding": null,
       "right": null,
       "top": null,
       "visibility": null,
       "width": null
      }
     },
     "29d425f9a0cb40dfb437ae6a3809bb30": {
      "model_module": "@jupyter-widgets/controls",
      "model_module_version": "2.0.0",
      "model_name": "FloatProgressModel",
      "state": {
       "_dom_classes": [],
       "_model_module": "@jupyter-widgets/controls",
       "_model_module_version": "2.0.0",
       "_model_name": "FloatProgressModel",
       "_view_count": null,
       "_view_module": "@jupyter-widgets/controls",
       "_view_module_version": "2.0.0",
       "_view_name": "ProgressView",
       "bar_style": "success",
       "description": "",
       "description_allow_html": false,
       "layout": "IPY_MODEL_25379db1f29449d9be042665062f9d9d",
       "max": 1.0,
       "min": 0.0,
       "orientation": "horizontal",
       "style": "IPY_MODEL_674f931fa47c4b27bd9b998ff021cd0f",
       "tabbable": null,
       "tooltip": null,
       "value": 1.0
      }
     },
     "3077da2cdb844af2829b94d2fb9f239b": {
      "model_module": "@jupyter-widgets/controls",
      "model_module_version": "2.0.0",
      "model_name": "HTMLModel",
      "state": {
       "_dom_classes": [],
       "_model_module": "@jupyter-widgets/controls",
       "_model_module_version": "2.0.0",
       "_model_name": "HTMLModel",
       "_view_count": null,
       "_view_module": "@jupyter-widgets/controls",
       "_view_module_version": "2.0.0",
       "_view_name": "HTMLView",
       "description": "",
       "description_allow_html": false,
       "layout": "IPY_MODEL_52663b202c1b4283b31c0b07cb864576",
       "placeholder": "​",
       "style": "IPY_MODEL_b133aa79f93c460d8963739fea694023",
       "tabbable": null,
       "tooltip": null,
       "value": "Summarize dataset: 100%"
      }
     },
     "3512e62cb72a4ab8bacf5e9be51a2d0c": {
      "model_module": "@jupyter-widgets/base",
      "model_module_version": "2.0.0",
      "model_name": "LayoutModel",
      "state": {
       "_model_module": "@jupyter-widgets/base",
       "_model_module_version": "2.0.0",
       "_model_name": "LayoutModel",
       "_view_count": null,
       "_view_module": "@jupyter-widgets/base",
       "_view_module_version": "2.0.0",
       "_view_name": "LayoutView",
       "align_content": null,
       "align_items": null,
       "align_self": null,
       "border_bottom": null,
       "border_left": null,
       "border_right": null,
       "border_top": null,
       "bottom": null,
       "display": null,
       "flex": null,
       "flex_flow": null,
       "grid_area": null,
       "grid_auto_columns": null,
       "grid_auto_flow": null,
       "grid_auto_rows": null,
       "grid_column": null,
       "grid_gap": null,
       "grid_row": null,
       "grid_template_areas": null,
       "grid_template_columns": null,
       "grid_template_rows": null,
       "height": null,
       "justify_content": null,
       "justify_items": null,
       "left": null,
       "margin": null,
       "max_height": null,
       "max_width": null,
       "min_height": null,
       "min_width": null,
       "object_fit": null,
       "object_position": null,
       "order": null,
       "overflow": null,
       "padding": null,
       "right": null,
       "top": null,
       "visibility": null,
       "width": null
      }
     },
     "38bcf2a6536c4edcb20ff47304919b6a": {
      "model_module": "@jupyter-widgets/base",
      "model_module_version": "2.0.0",
      "model_name": "LayoutModel",
      "state": {
       "_model_module": "@jupyter-widgets/base",
       "_model_module_version": "2.0.0",
       "_model_name": "LayoutModel",
       "_view_count": null,
       "_view_module": "@jupyter-widgets/base",
       "_view_module_version": "2.0.0",
       "_view_name": "LayoutView",
       "align_content": null,
       "align_items": null,
       "align_self": null,
       "border_bottom": null,
       "border_left": null,
       "border_right": null,
       "border_top": null,
       "bottom": null,
       "display": null,
       "flex": null,
       "flex_flow": null,
       "grid_area": null,
       "grid_auto_columns": null,
       "grid_auto_flow": null,
       "grid_auto_rows": null,
       "grid_column": null,
       "grid_gap": null,
       "grid_row": null,
       "grid_template_areas": null,
       "grid_template_columns": null,
       "grid_template_rows": null,
       "height": null,
       "justify_content": null,
       "justify_items": null,
       "left": null,
       "margin": null,
       "max_height": null,
       "max_width": null,
       "min_height": null,
       "min_width": null,
       "object_fit": null,
       "object_position": null,
       "order": null,
       "overflow": null,
       "padding": null,
       "right": null,
       "top": null,
       "visibility": null,
       "width": null
      }
     },
     "40451f7b3e5e4935ad6fd68eb47b8fd1": {
      "model_module": "@jupyter-widgets/base",
      "model_module_version": "2.0.0",
      "model_name": "LayoutModel",
      "state": {
       "_model_module": "@jupyter-widgets/base",
       "_model_module_version": "2.0.0",
       "_model_name": "LayoutModel",
       "_view_count": null,
       "_view_module": "@jupyter-widgets/base",
       "_view_module_version": "2.0.0",
       "_view_name": "LayoutView",
       "align_content": null,
       "align_items": null,
       "align_self": null,
       "border_bottom": null,
       "border_left": null,
       "border_right": null,
       "border_top": null,
       "bottom": null,
       "display": null,
       "flex": null,
       "flex_flow": null,
       "grid_area": null,
       "grid_auto_columns": null,
       "grid_auto_flow": null,
       "grid_auto_rows": null,
       "grid_column": null,
       "grid_gap": null,
       "grid_row": null,
       "grid_template_areas": null,
       "grid_template_columns": null,
       "grid_template_rows": null,
       "height": null,
       "justify_content": null,
       "justify_items": null,
       "left": null,
       "margin": null,
       "max_height": null,
       "max_width": null,
       "min_height": null,
       "min_width": null,
       "object_fit": null,
       "object_position": null,
       "order": null,
       "overflow": null,
       "padding": null,
       "right": null,
       "top": null,
       "visibility": null,
       "width": null
      }
     },
     "48c019cfae4f4a31a18b4ca8fa7c5290": {
      "model_module": "@jupyter-widgets/controls",
      "model_module_version": "2.0.0",
      "model_name": "HTMLStyleModel",
      "state": {
       "_model_module": "@jupyter-widgets/controls",
       "_model_module_version": "2.0.0",
       "_model_name": "HTMLStyleModel",
       "_view_count": null,
       "_view_module": "@jupyter-widgets/base",
       "_view_module_version": "2.0.0",
       "_view_name": "StyleView",
       "background": null,
       "description_width": "",
       "font_size": null,
       "text_color": null
      }
     },
     "4b2809530b694110847014c122ca0563": {
      "model_module": "@jupyter-widgets/controls",
      "model_module_version": "2.0.0",
      "model_name": "HBoxModel",
      "state": {
       "_dom_classes": [],
       "_model_module": "@jupyter-widgets/controls",
       "_model_module_version": "2.0.0",
       "_model_name": "HBoxModel",
       "_view_count": null,
       "_view_module": "@jupyter-widgets/controls",
       "_view_module_version": "2.0.0",
       "_view_name": "HBoxView",
       "box_style": "",
       "children": [
        "IPY_MODEL_3077da2cdb844af2829b94d2fb9f239b",
        "IPY_MODEL_fce4a6319814486498bee24dfb56805e",
        "IPY_MODEL_6126c815185549a9af69770bc59168d6"
       ],
       "layout": "IPY_MODEL_7a10961ddbba4bbb92ae99b346eabeba",
       "tabbable": null,
       "tooltip": null
      }
     },
     "50a1c75366cf41e6913f5fd951e31553": {
      "model_module": "@jupyter-widgets/base",
      "model_module_version": "2.0.0",
      "model_name": "LayoutModel",
      "state": {
       "_model_module": "@jupyter-widgets/base",
       "_model_module_version": "2.0.0",
       "_model_name": "LayoutModel",
       "_view_count": null,
       "_view_module": "@jupyter-widgets/base",
       "_view_module_version": "2.0.0",
       "_view_name": "LayoutView",
       "align_content": null,
       "align_items": null,
       "align_self": null,
       "border_bottom": null,
       "border_left": null,
       "border_right": null,
       "border_top": null,
       "bottom": null,
       "display": null,
       "flex": null,
       "flex_flow": null,
       "grid_area": null,
       "grid_auto_columns": null,
       "grid_auto_flow": null,
       "grid_auto_rows": null,
       "grid_column": null,
       "grid_gap": null,
       "grid_row": null,
       "grid_template_areas": null,
       "grid_template_columns": null,
       "grid_template_rows": null,
       "height": null,
       "justify_content": null,
       "justify_items": null,
       "left": null,
       "margin": null,
       "max_height": null,
       "max_width": null,
       "min_height": null,
       "min_width": null,
       "object_fit": null,
       "object_position": null,
       "order": null,
       "overflow": null,
       "padding": null,
       "right": null,
       "top": null,
       "visibility": null,
       "width": null
      }
     },
     "50e09d42b5a64a978dc277d5a069e96b": {
      "model_module": "@jupyter-widgets/base",
      "model_module_version": "2.0.0",
      "model_name": "LayoutModel",
      "state": {
       "_model_module": "@jupyter-widgets/base",
       "_model_module_version": "2.0.0",
       "_model_name": "LayoutModel",
       "_view_count": null,
       "_view_module": "@jupyter-widgets/base",
       "_view_module_version": "2.0.0",
       "_view_name": "LayoutView",
       "align_content": null,
       "align_items": null,
       "align_self": null,
       "border_bottom": null,
       "border_left": null,
       "border_right": null,
       "border_top": null,
       "bottom": null,
       "display": null,
       "flex": null,
       "flex_flow": null,
       "grid_area": null,
       "grid_auto_columns": null,
       "grid_auto_flow": null,
       "grid_auto_rows": null,
       "grid_column": null,
       "grid_gap": null,
       "grid_row": null,
       "grid_template_areas": null,
       "grid_template_columns": null,
       "grid_template_rows": null,
       "height": null,
       "justify_content": null,
       "justify_items": null,
       "left": null,
       "margin": null,
       "max_height": null,
       "max_width": null,
       "min_height": null,
       "min_width": null,
       "object_fit": null,
       "object_position": null,
       "order": null,
       "overflow": null,
       "padding": null,
       "right": null,
       "top": null,
       "visibility": null,
       "width": null
      }
     },
     "52663b202c1b4283b31c0b07cb864576": {
      "model_module": "@jupyter-widgets/base",
      "model_module_version": "2.0.0",
      "model_name": "LayoutModel",
      "state": {
       "_model_module": "@jupyter-widgets/base",
       "_model_module_version": "2.0.0",
       "_model_name": "LayoutModel",
       "_view_count": null,
       "_view_module": "@jupyter-widgets/base",
       "_view_module_version": "2.0.0",
       "_view_name": "LayoutView",
       "align_content": null,
       "align_items": null,
       "align_self": null,
       "border_bottom": null,
       "border_left": null,
       "border_right": null,
       "border_top": null,
       "bottom": null,
       "display": null,
       "flex": null,
       "flex_flow": null,
       "grid_area": null,
       "grid_auto_columns": null,
       "grid_auto_flow": null,
       "grid_auto_rows": null,
       "grid_column": null,
       "grid_gap": null,
       "grid_row": null,
       "grid_template_areas": null,
       "grid_template_columns": null,
       "grid_template_rows": null,
       "height": null,
       "justify_content": null,
       "justify_items": null,
       "left": null,
       "margin": null,
       "max_height": null,
       "max_width": null,
       "min_height": null,
       "min_width": null,
       "object_fit": null,
       "object_position": null,
       "order": null,
       "overflow": null,
       "padding": null,
       "right": null,
       "top": null,
       "visibility": null,
       "width": null
      }
     },
     "5f0881215a1d4e1c94d4dee249f126e8": {
      "model_module": "@jupyter-widgets/controls",
      "model_module_version": "2.0.0",
      "model_name": "HTMLStyleModel",
      "state": {
       "_model_module": "@jupyter-widgets/controls",
       "_model_module_version": "2.0.0",
       "_model_name": "HTMLStyleModel",
       "_view_count": null,
       "_view_module": "@jupyter-widgets/base",
       "_view_module_version": "2.0.0",
       "_view_name": "StyleView",
       "background": null,
       "description_width": "",
       "font_size": null,
       "text_color": null
      }
     },
     "6126c815185549a9af69770bc59168d6": {
      "model_module": "@jupyter-widgets/controls",
      "model_module_version": "2.0.0",
      "model_name": "HTMLModel",
      "state": {
       "_dom_classes": [],
       "_model_module": "@jupyter-widgets/controls",
       "_model_module_version": "2.0.0",
       "_model_name": "HTMLModel",
       "_view_count": null,
       "_view_module": "@jupyter-widgets/controls",
       "_view_module_version": "2.0.0",
       "_view_name": "HTMLView",
       "description": "",
       "description_allow_html": false,
       "layout": "IPY_MODEL_8d9324e6df0b479ba764e2595ca7a80c",
       "placeholder": "​",
       "style": "IPY_MODEL_71e9d9f9bc1644e0be43215b5fe90ac0",
       "tabbable": null,
       "tooltip": null,
       "value": " 23/23 [00:01&lt;00:00, 11.05it/s, Completed]"
      }
     },
     "674f931fa47c4b27bd9b998ff021cd0f": {
      "model_module": "@jupyter-widgets/controls",
      "model_module_version": "2.0.0",
      "model_name": "ProgressStyleModel",
      "state": {
       "_model_module": "@jupyter-widgets/controls",
       "_model_module_version": "2.0.0",
       "_model_name": "ProgressStyleModel",
       "_view_count": null,
       "_view_module": "@jupyter-widgets/base",
       "_view_module_version": "2.0.0",
       "_view_name": "StyleView",
       "bar_color": null,
       "description_width": ""
      }
     },
     "6b8d2c0ca27040849cdd632131bd16d8": {
      "model_module": "@jupyter-widgets/controls",
      "model_module_version": "2.0.0",
      "model_name": "ProgressStyleModel",
      "state": {
       "_model_module": "@jupyter-widgets/controls",
       "_model_module_version": "2.0.0",
       "_model_name": "ProgressStyleModel",
       "_view_count": null,
       "_view_module": "@jupyter-widgets/base",
       "_view_module_version": "2.0.0",
       "_view_name": "StyleView",
       "bar_color": null,
       "description_width": ""
      }
     },
     "71e9d9f9bc1644e0be43215b5fe90ac0": {
      "model_module": "@jupyter-widgets/controls",
      "model_module_version": "2.0.0",
      "model_name": "HTMLStyleModel",
      "state": {
       "_model_module": "@jupyter-widgets/controls",
       "_model_module_version": "2.0.0",
       "_model_name": "HTMLStyleModel",
       "_view_count": null,
       "_view_module": "@jupyter-widgets/base",
       "_view_module_version": "2.0.0",
       "_view_name": "StyleView",
       "background": null,
       "description_width": "",
       "font_size": null,
       "text_color": null
      }
     },
     "7a10961ddbba4bbb92ae99b346eabeba": {
      "model_module": "@jupyter-widgets/base",
      "model_module_version": "2.0.0",
      "model_name": "LayoutModel",
      "state": {
       "_model_module": "@jupyter-widgets/base",
       "_model_module_version": "2.0.0",
       "_model_name": "LayoutModel",
       "_view_count": null,
       "_view_module": "@jupyter-widgets/base",
       "_view_module_version": "2.0.0",
       "_view_name": "LayoutView",
       "align_content": null,
       "align_items": null,
       "align_self": null,
       "border_bottom": null,
       "border_left": null,
       "border_right": null,
       "border_top": null,
       "bottom": null,
       "display": null,
       "flex": null,
       "flex_flow": null,
       "grid_area": null,
       "grid_auto_columns": null,
       "grid_auto_flow": null,
       "grid_auto_rows": null,
       "grid_column": null,
       "grid_gap": null,
       "grid_row": null,
       "grid_template_areas": null,
       "grid_template_columns": null,
       "grid_template_rows": null,
       "height": null,
       "justify_content": null,
       "justify_items": null,
       "left": null,
       "margin": null,
       "max_height": null,
       "max_width": null,
       "min_height": null,
       "min_width": null,
       "object_fit": null,
       "object_position": null,
       "order": null,
       "overflow": null,
       "padding": null,
       "right": null,
       "top": null,
       "visibility": null,
       "width": null
      }
     },
     "7f71d866e45a409f94ee4f9e667d7b6d": {
      "model_module": "@jupyter-widgets/base",
      "model_module_version": "2.0.0",
      "model_name": "LayoutModel",
      "state": {
       "_model_module": "@jupyter-widgets/base",
       "_model_module_version": "2.0.0",
       "_model_name": "LayoutModel",
       "_view_count": null,
       "_view_module": "@jupyter-widgets/base",
       "_view_module_version": "2.0.0",
       "_view_name": "LayoutView",
       "align_content": null,
       "align_items": null,
       "align_self": null,
       "border_bottom": null,
       "border_left": null,
       "border_right": null,
       "border_top": null,
       "bottom": null,
       "display": null,
       "flex": null,
       "flex_flow": null,
       "grid_area": null,
       "grid_auto_columns": null,
       "grid_auto_flow": null,
       "grid_auto_rows": null,
       "grid_column": null,
       "grid_gap": null,
       "grid_row": null,
       "grid_template_areas": null,
       "grid_template_columns": null,
       "grid_template_rows": null,
       "height": null,
       "justify_content": null,
       "justify_items": null,
       "left": null,
       "margin": null,
       "max_height": null,
       "max_width": null,
       "min_height": null,
       "min_width": null,
       "object_fit": null,
       "object_position": null,
       "order": null,
       "overflow": null,
       "padding": null,
       "right": null,
       "top": null,
       "visibility": null,
       "width": null
      }
     },
     "8347b941b4004b93ada59aa2d3092e20": {
      "model_module": "@jupyter-widgets/controls",
      "model_module_version": "2.0.0",
      "model_name": "HBoxModel",
      "state": {
       "_dom_classes": [],
       "_model_module": "@jupyter-widgets/controls",
       "_model_module_version": "2.0.0",
       "_model_name": "HBoxModel",
       "_view_count": null,
       "_view_module": "@jupyter-widgets/controls",
       "_view_module_version": "2.0.0",
       "_view_name": "HBoxView",
       "box_style": "",
       "children": [
        "IPY_MODEL_d8f7966b961c4327bf9989977a3f1787",
        "IPY_MODEL_b432cc1a40aa402db229b772a57ab34c",
        "IPY_MODEL_db362a3b7c044c1eb7dac51ba0d14798"
       ],
       "layout": "IPY_MODEL_40451f7b3e5e4935ad6fd68eb47b8fd1",
       "tabbable": null,
       "tooltip": null
      }
     },
     "88e571feeb0546d3950e84898c45a9e9": {
      "model_module": "@jupyter-widgets/controls",
      "model_module_version": "2.0.0",
      "model_name": "HTMLModel",
      "state": {
       "_dom_classes": [],
       "_model_module": "@jupyter-widgets/controls",
       "_model_module_version": "2.0.0",
       "_model_name": "HTMLModel",
       "_view_count": null,
       "_view_module": "@jupyter-widgets/controls",
       "_view_module_version": "2.0.0",
       "_view_name": "HTMLView",
       "description": "",
       "description_allow_html": false,
       "layout": "IPY_MODEL_50a1c75366cf41e6913f5fd951e31553",
       "placeholder": "​",
       "style": "IPY_MODEL_ea5cdde9f5f94b82bfd3d6b4730d72e7",
       "tabbable": null,
       "tooltip": null,
       "value": "Render HTML: 100%"
      }
     },
     "8b2390005dc049daaf18ec199f4785a2": {
      "model_module": "@jupyter-widgets/base",
      "model_module_version": "2.0.0",
      "model_name": "LayoutModel",
      "state": {
       "_model_module": "@jupyter-widgets/base",
       "_model_module_version": "2.0.0",
       "_model_name": "LayoutModel",
       "_view_count": null,
       "_view_module": "@jupyter-widgets/base",
       "_view_module_version": "2.0.0",
       "_view_name": "LayoutView",
       "align_content": null,
       "align_items": null,
       "align_self": null,
       "border_bottom": null,
       "border_left": null,
       "border_right": null,
       "border_top": null,
       "bottom": null,
       "display": null,
       "flex": null,
       "flex_flow": null,
       "grid_area": null,
       "grid_auto_columns": null,
       "grid_auto_flow": null,
       "grid_auto_rows": null,
       "grid_column": null,
       "grid_gap": null,
       "grid_row": null,
       "grid_template_areas": null,
       "grid_template_columns": null,
       "grid_template_rows": null,
       "height": null,
       "justify_content": null,
       "justify_items": null,
       "left": null,
       "margin": null,
       "max_height": null,
       "max_width": null,
       "min_height": null,
       "min_width": null,
       "object_fit": null,
       "object_position": null,
       "order": null,
       "overflow": null,
       "padding": null,
       "right": null,
       "top": null,
       "visibility": null,
       "width": null
      }
     },
     "8d9324e6df0b479ba764e2595ca7a80c": {
      "model_module": "@jupyter-widgets/base",
      "model_module_version": "2.0.0",
      "model_name": "LayoutModel",
      "state": {
       "_model_module": "@jupyter-widgets/base",
       "_model_module_version": "2.0.0",
       "_model_name": "LayoutModel",
       "_view_count": null,
       "_view_module": "@jupyter-widgets/base",
       "_view_module_version": "2.0.0",
       "_view_name": "LayoutView",
       "align_content": null,
       "align_items": null,
       "align_self": null,
       "border_bottom": null,
       "border_left": null,
       "border_right": null,
       "border_top": null,
       "bottom": null,
       "display": null,
       "flex": null,
       "flex_flow": null,
       "grid_area": null,
       "grid_auto_columns": null,
       "grid_auto_flow": null,
       "grid_auto_rows": null,
       "grid_column": null,
       "grid_gap": null,
       "grid_row": null,
       "grid_template_areas": null,
       "grid_template_columns": null,
       "grid_template_rows": null,
       "height": null,
       "justify_content": null,
       "justify_items": null,
       "left": null,
       "margin": null,
       "max_height": null,
       "max_width": null,
       "min_height": null,
       "min_width": null,
       "object_fit": null,
       "object_position": null,
       "order": null,
       "overflow": null,
       "padding": null,
       "right": null,
       "top": null,
       "visibility": null,
       "width": null
      }
     },
     "9fb439880d344ce4b94e2138a8531ecc": {
      "model_module": "@jupyter-widgets/controls",
      "model_module_version": "2.0.0",
      "model_name": "HBoxModel",
      "state": {
       "_dom_classes": [],
       "_model_module": "@jupyter-widgets/controls",
       "_model_module_version": "2.0.0",
       "_model_name": "HBoxModel",
       "_view_count": null,
       "_view_module": "@jupyter-widgets/controls",
       "_view_module_version": "2.0.0",
       "_view_name": "HBoxView",
       "box_style": "",
       "children": [
        "IPY_MODEL_88e571feeb0546d3950e84898c45a9e9",
        "IPY_MODEL_29d425f9a0cb40dfb437ae6a3809bb30",
        "IPY_MODEL_b839986824a2429e8f8a6c1807b1c733"
       ],
       "layout": "IPY_MODEL_a761f6f6cd9047e9bee8e77c91847660",
       "tabbable": null,
       "tooltip": null
      }
     },
     "a761f6f6cd9047e9bee8e77c91847660": {
      "model_module": "@jupyter-widgets/base",
      "model_module_version": "2.0.0",
      "model_name": "LayoutModel",
      "state": {
       "_model_module": "@jupyter-widgets/base",
       "_model_module_version": "2.0.0",
       "_model_name": "LayoutModel",
       "_view_count": null,
       "_view_module": "@jupyter-widgets/base",
       "_view_module_version": "2.0.0",
       "_view_name": "LayoutView",
       "align_content": null,
       "align_items": null,
       "align_self": null,
       "border_bottom": null,
       "border_left": null,
       "border_right": null,
       "border_top": null,
       "bottom": null,
       "display": null,
       "flex": null,
       "flex_flow": null,
       "grid_area": null,
       "grid_auto_columns": null,
       "grid_auto_flow": null,
       "grid_auto_rows": null,
       "grid_column": null,
       "grid_gap": null,
       "grid_row": null,
       "grid_template_areas": null,
       "grid_template_columns": null,
       "grid_template_rows": null,
       "height": null,
       "justify_content": null,
       "justify_items": null,
       "left": null,
       "margin": null,
       "max_height": null,
       "max_width": null,
       "min_height": null,
       "min_width": null,
       "object_fit": null,
       "object_position": null,
       "order": null,
       "overflow": null,
       "padding": null,
       "right": null,
       "top": null,
       "visibility": null,
       "width": null
      }
     },
     "b133aa79f93c460d8963739fea694023": {
      "model_module": "@jupyter-widgets/controls",
      "model_module_version": "2.0.0",
      "model_name": "HTMLStyleModel",
      "state": {
       "_model_module": "@jupyter-widgets/controls",
       "_model_module_version": "2.0.0",
       "_model_name": "HTMLStyleModel",
       "_view_count": null,
       "_view_module": "@jupyter-widgets/base",
       "_view_module_version": "2.0.0",
       "_view_name": "StyleView",
       "background": null,
       "description_width": "",
       "font_size": null,
       "text_color": null
      }
     },
     "b432cc1a40aa402db229b772a57ab34c": {
      "model_module": "@jupyter-widgets/controls",
      "model_module_version": "2.0.0",
      "model_name": "FloatProgressModel",
      "state": {
       "_dom_classes": [],
       "_model_module": "@jupyter-widgets/controls",
       "_model_module_version": "2.0.0",
       "_model_name": "FloatProgressModel",
       "_view_count": null,
       "_view_module": "@jupyter-widgets/controls",
       "_view_module_version": "2.0.0",
       "_view_name": "ProgressView",
       "bar_style": "success",
       "description": "",
       "description_allow_html": false,
       "layout": "IPY_MODEL_3512e62cb72a4ab8bacf5e9be51a2d0c",
       "max": 1.0,
       "min": 0.0,
       "orientation": "horizontal",
       "style": "IPY_MODEL_053d4b19636e45608ef2d4bd29b4ac56",
       "tabbable": null,
       "tooltip": null,
       "value": 1.0
      }
     },
     "b839986824a2429e8f8a6c1807b1c733": {
      "model_module": "@jupyter-widgets/controls",
      "model_module_version": "2.0.0",
      "model_name": "HTMLModel",
      "state": {
       "_dom_classes": [],
       "_model_module": "@jupyter-widgets/controls",
       "_model_module_version": "2.0.0",
       "_model_name": "HTMLModel",
       "_view_count": null,
       "_view_module": "@jupyter-widgets/controls",
       "_view_module_version": "2.0.0",
       "_view_name": "HTMLView",
       "description": "",
       "description_allow_html": false,
       "layout": "IPY_MODEL_f6b470f924404b8dad017c4db4635ab1",
       "placeholder": "​",
       "style": "IPY_MODEL_48c019cfae4f4a31a18b4ca8fa7c5290",
       "tabbable": null,
       "tooltip": null,
       "value": " 1/1 [00:00&lt;00:00,  1.54it/s]"
      }
     },
     "c6bba312d13c48a7a29838157cff6ab2": {
      "model_module": "@jupyter-widgets/controls",
      "model_module_version": "2.0.0",
      "model_name": "HTMLModel",
      "state": {
       "_dom_classes": [],
       "_model_module": "@jupyter-widgets/controls",
       "_model_module_version": "2.0.0",
       "_model_name": "HTMLModel",
       "_view_count": null,
       "_view_module": "@jupyter-widgets/controls",
       "_view_module_version": "2.0.0",
       "_view_name": "HTMLView",
       "description": "",
       "description_allow_html": false,
       "layout": "IPY_MODEL_50e09d42b5a64a978dc277d5a069e96b",
       "placeholder": "​",
       "style": "IPY_MODEL_5f0881215a1d4e1c94d4dee249f126e8",
       "tabbable": null,
       "tooltip": null,
       "value": " 1/1 [00:06&lt;00:00,  6.44s/it]"
      }
     },
     "cba291aaa50e4c6e883a70d03f7df987": {
      "model_module": "@jupyter-widgets/controls",
      "model_module_version": "2.0.0",
      "model_name": "HTMLStyleModel",
      "state": {
       "_model_module": "@jupyter-widgets/controls",
       "_model_module_version": "2.0.0",
       "_model_name": "HTMLStyleModel",
       "_view_count": null,
       "_view_module": "@jupyter-widgets/base",
       "_view_module_version": "2.0.0",
       "_view_name": "StyleView",
       "background": null,
       "description_width": "",
       "font_size": null,
       "text_color": null
      }
     },
     "cf9893d785cc438fb4695e54b8a86a15": {
      "model_module": "@jupyter-widgets/controls",
      "model_module_version": "2.0.0",
      "model_name": "FloatProgressModel",
      "state": {
       "_dom_classes": [],
       "_model_module": "@jupyter-widgets/controls",
       "_model_module_version": "2.0.0",
       "_model_name": "FloatProgressModel",
       "_view_count": null,
       "_view_module": "@jupyter-widgets/controls",
       "_view_module_version": "2.0.0",
       "_view_name": "ProgressView",
       "bar_style": "success",
       "description": "",
       "description_allow_html": false,
       "layout": "IPY_MODEL_f48ef6deea9c4f6b8f741eac7a14d2b4",
       "max": 1.0,
       "min": 0.0,
       "orientation": "horizontal",
       "style": "IPY_MODEL_6b8d2c0ca27040849cdd632131bd16d8",
       "tabbable": null,
       "tooltip": null,
       "value": 1.0
      }
     },
     "d8f7966b961c4327bf9989977a3f1787": {
      "model_module": "@jupyter-widgets/controls",
      "model_module_version": "2.0.0",
      "model_name": "HTMLModel",
      "state": {
       "_dom_classes": [],
       "_model_module": "@jupyter-widgets/controls",
       "_model_module_version": "2.0.0",
       "_model_name": "HTMLModel",
       "_view_count": null,
       "_view_module": "@jupyter-widgets/controls",
       "_view_module_version": "2.0.0",
       "_view_name": "HTMLView",
       "description": "",
       "description_allow_html": false,
       "layout": "IPY_MODEL_8b2390005dc049daaf18ec199f4785a2",
       "placeholder": "​",
       "style": "IPY_MODEL_0420dbfa718b46d1b98eb47f2701bd41",
       "tabbable": null,
       "tooltip": null,
       "value": "Export report to file: 100%"
      }
     },
     "db362a3b7c044c1eb7dac51ba0d14798": {
      "model_module": "@jupyter-widgets/controls",
      "model_module_version": "2.0.0",
      "model_name": "HTMLModel",
      "state": {
       "_dom_classes": [],
       "_model_module": "@jupyter-widgets/controls",
       "_model_module_version": "2.0.0",
       "_model_name": "HTMLModel",
       "_view_count": null,
       "_view_module": "@jupyter-widgets/controls",
       "_view_module_version": "2.0.0",
       "_view_name": "HTMLView",
       "description": "",
       "description_allow_html": false,
       "layout": "IPY_MODEL_1222af7318f443b8ae1321c44d86777f",
       "placeholder": "​",
       "style": "IPY_MODEL_1358aeddf7194728914fe50dd860aecb",
       "tabbable": null,
       "tooltip": null,
       "value": " 1/1 [00:00&lt;00:00, 54.28it/s]"
      }
     },
     "e7597927e41e437fb796f682cf6b5a6e": {
      "model_module": "@jupyter-widgets/controls",
      "model_module_version": "2.0.0",
      "model_name": "ProgressStyleModel",
      "state": {
       "_model_module": "@jupyter-widgets/controls",
       "_model_module_version": "2.0.0",
       "_model_name": "ProgressStyleModel",
       "_view_count": null,
       "_view_module": "@jupyter-widgets/base",
       "_view_module_version": "2.0.0",
       "_view_name": "StyleView",
       "bar_color": null,
       "description_width": ""
      }
     },
     "ea5cdde9f5f94b82bfd3d6b4730d72e7": {
      "model_module": "@jupyter-widgets/controls",
      "model_module_version": "2.0.0",
      "model_name": "HTMLStyleModel",
      "state": {
       "_model_module": "@jupyter-widgets/controls",
       "_model_module_version": "2.0.0",
       "_model_name": "HTMLStyleModel",
       "_view_count": null,
       "_view_module": "@jupyter-widgets/base",
       "_view_module_version": "2.0.0",
       "_view_name": "StyleView",
       "background": null,
       "description_width": "",
       "font_size": null,
       "text_color": null
      }
     },
     "ebd0ad00e318445da8438b1b85eda51f": {
      "model_module": "@jupyter-widgets/controls",
      "model_module_version": "2.0.0",
      "model_name": "HTMLModel",
      "state": {
       "_dom_classes": [],
       "_model_module": "@jupyter-widgets/controls",
       "_model_module_version": "2.0.0",
       "_model_name": "HTMLModel",
       "_view_count": null,
       "_view_module": "@jupyter-widgets/controls",
       "_view_module_version": "2.0.0",
       "_view_name": "HTMLView",
       "description": "",
       "description_allow_html": false,
       "layout": "IPY_MODEL_7f71d866e45a409f94ee4f9e667d7b6d",
       "placeholder": "​",
       "style": "IPY_MODEL_cba291aaa50e4c6e883a70d03f7df987",
       "tabbable": null,
       "tooltip": null,
       "value": "Generate report structure: 100%"
      }
     },
     "f48ef6deea9c4f6b8f741eac7a14d2b4": {
      "model_module": "@jupyter-widgets/base",
      "model_module_version": "2.0.0",
      "model_name": "LayoutModel",
      "state": {
       "_model_module": "@jupyter-widgets/base",
       "_model_module_version": "2.0.0",
       "_model_name": "LayoutModel",
       "_view_count": null,
       "_view_module": "@jupyter-widgets/base",
       "_view_module_version": "2.0.0",
       "_view_name": "LayoutView",
       "align_content": null,
       "align_items": null,
       "align_self": null,
       "border_bottom": null,
       "border_left": null,
       "border_right": null,
       "border_top": null,
       "bottom": null,
       "display": null,
       "flex": null,
       "flex_flow": null,
       "grid_area": null,
       "grid_auto_columns": null,
       "grid_auto_flow": null,
       "grid_auto_rows": null,
       "grid_column": null,
       "grid_gap": null,
       "grid_row": null,
       "grid_template_areas": null,
       "grid_template_columns": null,
       "grid_template_rows": null,
       "height": null,
       "justify_content": null,
       "justify_items": null,
       "left": null,
       "margin": null,
       "max_height": null,
       "max_width": null,
       "min_height": null,
       "min_width": null,
       "object_fit": null,
       "object_position": null,
       "order": null,
       "overflow": null,
       "padding": null,
       "right": null,
       "top": null,
       "visibility": null,
       "width": null
      }
     },
     "f6b470f924404b8dad017c4db4635ab1": {
      "model_module": "@jupyter-widgets/base",
      "model_module_version": "2.0.0",
      "model_name": "LayoutModel",
      "state": {
       "_model_module": "@jupyter-widgets/base",
       "_model_module_version": "2.0.0",
       "_model_name": "LayoutModel",
       "_view_count": null,
       "_view_module": "@jupyter-widgets/base",
       "_view_module_version": "2.0.0",
       "_view_name": "LayoutView",
       "align_content": null,
       "align_items": null,
       "align_self": null,
       "border_bottom": null,
       "border_left": null,
       "border_right": null,
       "border_top": null,
       "bottom": null,
       "display": null,
       "flex": null,
       "flex_flow": null,
       "grid_area": null,
       "grid_auto_columns": null,
       "grid_auto_flow": null,
       "grid_auto_rows": null,
       "grid_column": null,
       "grid_gap": null,
       "grid_row": null,
       "grid_template_areas": null,
       "grid_template_columns": null,
       "grid_template_rows": null,
       "height": null,
       "justify_content": null,
       "justify_items": null,
       "left": null,
       "margin": null,
       "max_height": null,
       "max_width": null,
       "min_height": null,
       "min_width": null,
       "object_fit": null,
       "object_position": null,
       "order": null,
       "overflow": null,
       "padding": null,
       "right": null,
       "top": null,
       "visibility": null,
       "width": null
      }
     },
     "fce4a6319814486498bee24dfb56805e": {
      "model_module": "@jupyter-widgets/controls",
      "model_module_version": "2.0.0",
      "model_name": "FloatProgressModel",
      "state": {
       "_dom_classes": [],
       "_model_module": "@jupyter-widgets/controls",
       "_model_module_version": "2.0.0",
       "_model_name": "FloatProgressModel",
       "_view_count": null,
       "_view_module": "@jupyter-widgets/controls",
       "_view_module_version": "2.0.0",
       "_view_name": "ProgressView",
       "bar_style": "success",
       "description": "",
       "description_allow_html": false,
       "layout": "IPY_MODEL_38bcf2a6536c4edcb20ff47304919b6a",
       "max": 5.0,
       "min": 0.0,
       "orientation": "horizontal",
       "style": "IPY_MODEL_e7597927e41e437fb796f682cf6b5a6e",
       "tabbable": null,
       "tooltip": null,
       "value": 5.0
      }
     }
    },
    "version_major": 2,
    "version_minor": 0
   }
  }
 },
 "nbformat": 4,
 "nbformat_minor": 5
}
